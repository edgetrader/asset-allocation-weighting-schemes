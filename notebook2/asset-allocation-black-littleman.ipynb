{
 "cells": [
  {
   "cell_type": "code",
   "execution_count": 109,
   "metadata": {},
   "outputs": [],
   "source": [
    "import warnings\n",
    "warnings.filterwarnings(\"ignore\", category=FutureWarning)\n",
    "warnings.filterwarnings(\"ignore\", category=Warning)\n",
    "\n",
    "import sys  \n",
    "sys.path.append('../src') \n",
    "from edge_risk_kit import *\n",
    "\n",
    "import edge_risk_kit as erk\n",
    "\n",
    "import ipywidgets as widgets\n",
    "from IPython.display import display\n"
   ]
  },
  {
   "cell_type": "code",
   "execution_count": 2,
   "metadata": {},
   "outputs": [],
   "source": [
    "import numpy as np\n",
    "import pandas as pd\n",
    "from datetime import datetime\n",
    "\n",
    "import seaborn as sns\n",
    "import matplotlib.pyplot as plt\n",
    "%matplotlib inline\n",
    "\n",
    "DATA_FOLDER = '../data/'"
   ]
  },
  {
   "cell_type": "code",
   "execution_count": 3,
   "metadata": {},
   "outputs": [],
   "source": [
    "tickers = ['AAPL','TSLA','DIA','SPY','^TNX']\n",
    "\n",
    "start_date = '2000-01-01'\n",
    "end_date = '2020-12-31'"
   ]
  },
  {
   "cell_type": "code",
   "execution_count": 4,
   "metadata": {},
   "outputs": [],
   "source": [
    "import yfinance as yf\n",
    "\n",
    "tickerlist = []\n",
    "\n",
    "for ticker in tickers:\n",
    "    tickerinfo = {}\n",
    "    tickerinfo['ticker'] = ticker\n",
    "    tickerinfo['name'] = yf.Ticker(ticker).info['shortName']\n",
    "    tickerinfo['marketCap'] = yf.Ticker(ticker).info['marketCap']\n",
    "    tickerlist.append(tickerinfo)\n",
    "    \n",
    "tickerlist = pd.DataFrame(tickerlist)\n",
    "tickerlist.set_index('ticker', inplace=True)"
   ]
  },
  {
   "cell_type": "code",
   "execution_count": 5,
   "metadata": {},
   "outputs": [
    {
     "name": "stdout",
     "output_type": "stream",
     "text": [
      "[*********************100%***********************]  5 of 5 completed\n"
     ]
    }
   ],
   "source": [
    "data = yf.download(tickers, start=start_date, end=end_date)\n",
    "prices = data['Adj Close'][tickers].dropna()"
   ]
  },
  {
   "cell_type": "code",
   "execution_count": 6,
   "metadata": {},
   "outputs": [
    {
     "data": {
      "text/plain": [
       "MultiIndex([('Adj Close', 'AAPL'),\n",
       "            ('Adj Close',  'DIA'),\n",
       "            ('Adj Close',  'SPY'),\n",
       "            ('Adj Close', 'TSLA'),\n",
       "            ('Adj Close', '^TNX'),\n",
       "            (    'Close', 'AAPL'),\n",
       "            (    'Close',  'DIA'),\n",
       "            (    'Close',  'SPY'),\n",
       "            (    'Close', 'TSLA'),\n",
       "            (    'Close', '^TNX'),\n",
       "            (     'High', 'AAPL'),\n",
       "            (     'High',  'DIA'),\n",
       "            (     'High',  'SPY'),\n",
       "            (     'High', 'TSLA'),\n",
       "            (     'High', '^TNX'),\n",
       "            (      'Low', 'AAPL'),\n",
       "            (      'Low',  'DIA'),\n",
       "            (      'Low',  'SPY'),\n",
       "            (      'Low', 'TSLA'),\n",
       "            (      'Low', '^TNX'),\n",
       "            (     'Open', 'AAPL'),\n",
       "            (     'Open',  'DIA'),\n",
       "            (     'Open',  'SPY'),\n",
       "            (     'Open', 'TSLA'),\n",
       "            (     'Open', '^TNX'),\n",
       "            (   'Volume', 'AAPL'),\n",
       "            (   'Volume',  'DIA'),\n",
       "            (   'Volume',  'SPY'),\n",
       "            (   'Volume', 'TSLA'),\n",
       "            (   'Volume', '^TNX')],\n",
       "           )"
      ]
     },
     "execution_count": 6,
     "metadata": {},
     "output_type": "execute_result"
    }
   ],
   "source": [
    "data.columns"
   ]
  },
  {
   "cell_type": "code",
   "execution_count": 7,
   "metadata": {},
   "outputs": [
    {
     "data": {
      "text/html": [
       "<div>\n",
       "<style scoped>\n",
       "    .dataframe tbody tr th:only-of-type {\n",
       "        vertical-align: middle;\n",
       "    }\n",
       "\n",
       "    .dataframe tbody tr th {\n",
       "        vertical-align: top;\n",
       "    }\n",
       "\n",
       "    .dataframe thead th {\n",
       "        text-align: right;\n",
       "    }\n",
       "</style>\n",
       "<table border=\"1\" class=\"dataframe\">\n",
       "  <thead>\n",
       "    <tr style=\"text-align: right;\">\n",
       "      <th></th>\n",
       "      <th>name</th>\n",
       "      <th>marketCap</th>\n",
       "    </tr>\n",
       "    <tr>\n",
       "      <th>ticker</th>\n",
       "      <th></th>\n",
       "      <th></th>\n",
       "    </tr>\n",
       "  </thead>\n",
       "  <tbody>\n",
       "    <tr>\n",
       "      <th>AAPL</th>\n",
       "      <td>Apple Inc.</td>\n",
       "      <td>2.174190e+12</td>\n",
       "    </tr>\n",
       "    <tr>\n",
       "      <th>TSLA</th>\n",
       "      <td>Tesla, Inc.</td>\n",
       "      <td>6.002583e+11</td>\n",
       "    </tr>\n",
       "    <tr>\n",
       "      <th>DIA</th>\n",
       "      <td>SPDR Dow Jones Industrial Avera</td>\n",
       "      <td>NaN</td>\n",
       "    </tr>\n",
       "    <tr>\n",
       "      <th>SPY</th>\n",
       "      <td>SPDR S&amp;P 500</td>\n",
       "      <td>NaN</td>\n",
       "    </tr>\n",
       "    <tr>\n",
       "      <th>^TNX</th>\n",
       "      <td>CBOE Interest Rate 10 Year T No</td>\n",
       "      <td>NaN</td>\n",
       "    </tr>\n",
       "  </tbody>\n",
       "</table>\n",
       "</div>"
      ],
      "text/plain": [
       "                                   name     marketCap\n",
       "ticker                                               \n",
       "AAPL                         Apple Inc.  2.174190e+12\n",
       "TSLA                        Tesla, Inc.  6.002583e+11\n",
       "DIA     SPDR Dow Jones Industrial Avera           NaN\n",
       "SPY                        SPDR S&P 500           NaN\n",
       "^TNX    CBOE Interest Rate 10 Year T No           NaN"
      ]
     },
     "execution_count": 7,
     "metadata": {},
     "output_type": "execute_result"
    }
   ],
   "source": [
    "tickerlist"
   ]
  },
  {
   "cell_type": "code",
   "execution_count": null,
   "metadata": {},
   "outputs": [],
   "source": []
  },
  {
   "cell_type": "markdown",
   "metadata": {},
   "source": [
    "---\n",
    "## Risk Free Rate - 10 Year Treasury Yield"
   ]
  },
  {
   "cell_type": "code",
   "execution_count": 8,
   "metadata": {},
   "outputs": [
    {
     "name": "stdout",
     "output_type": "stream",
     "text": [
      "Risk Free Rate: 0.923%\n"
     ]
    }
   ],
   "source": [
    "rfr = prices['^TNX']/100\n",
    "print('Risk Free Rate: {:.3f}%'.format(rfr[-1]*100))"
   ]
  },
  {
   "cell_type": "code",
   "execution_count": 9,
   "metadata": {},
   "outputs": [],
   "source": [
    "rfr_monthly = rfr.resample('M').fillna('ffill')\n",
    "rfr_monthly.index = rfr_monthly.index.to_period('M')"
   ]
  },
  {
   "cell_type": "markdown",
   "metadata": {},
   "source": [
    "## Black Littleman - Investor's Risk Aversion Parameters"
   ]
  },
  {
   "cell_type": "code",
   "execution_count": 10,
   "metadata": {},
   "outputs": [],
   "source": [
    "sp500 = prices['SPY']\n",
    "djia = prices['DIA']"
   ]
  },
  {
   "cell_type": "code",
   "execution_count": 11,
   "metadata": {},
   "outputs": [],
   "source": [
    "def calcDelta(px, freq='M', rfr=0.00):\n",
    "    px_freq = px.resample(freq).fillna('ffill')\n",
    "    px_freq.index = px_freq.index.to_period(freq)\n",
    "    rets = px_freq.pct_change().dropna()\n",
    "    return (rets.mean()-rfr)/rets.var()"
   ]
  },
  {
   "cell_type": "code",
   "execution_count": 12,
   "metadata": {},
   "outputs": [
    {
     "data": {
      "text/plain": [
       "8.770683990457997"
      ]
     },
     "execution_count": 12,
     "metadata": {},
     "output_type": "execute_result"
    }
   ],
   "source": [
    "calcDelta(sp500, 'Y', rfr[-1])"
   ]
  },
  {
   "cell_type": "code",
   "execution_count": 13,
   "metadata": {},
   "outputs": [
    {
     "data": {
      "text/plain": [
       "9.377776023645474"
      ]
     },
     "execution_count": 13,
     "metadata": {},
     "output_type": "execute_result"
    }
   ],
   "source": [
    "calcDelta(djia, 'Y', rfr[-1])"
   ]
  },
  {
   "cell_type": "code",
   "execution_count": 14,
   "metadata": {},
   "outputs": [],
   "source": [
    "# delta = sp500.pct_change().dropna().rolling(252).mean()/sp500.pct_change().dropna().rolling(252).var()\n",
    "# delta.dropna(inplace=True)\n",
    "# delta.name = 'Delta'\n",
    "\n",
    "# p = pd.concat([sp500, delta], axis=1).dropna()\n",
    "# p.SPY.plot(figsize=(12,6), legend=True)\n",
    "# p.Delta.plot(legend=True, secondary_y=True)\n",
    "# plt.show()"
   ]
  },
  {
   "cell_type": "code",
   "execution_count": 15,
   "metadata": {},
   "outputs": [
    {
     "data": {
      "text/plain": [
       "8.009258979527472"
      ]
     },
     "execution_count": 15,
     "metadata": {},
     "output_type": "execute_result"
    }
   ],
   "source": [
    "calcDelta(sp500['2007':], 'M')"
   ]
  },
  {
   "cell_type": "markdown",
   "metadata": {},
   "source": [
    "## Prices"
   ]
  },
  {
   "cell_type": "code",
   "execution_count": 16,
   "metadata": {},
   "outputs": [],
   "source": [
    "def calcRetsCov(px, freq):\n",
    "    px_freq = px.resample(freq).fillna('ffill')\n",
    "    px_freq.index = px_freq.index.to_period(freq)\n",
    "\n",
    "    rets = px_freq.pct_change().dropna()\n",
    "    cov = rets.cov()\n",
    "    return rets, cov"
   ]
  },
  {
   "cell_type": "code",
   "execution_count": 17,
   "metadata": {},
   "outputs": [],
   "source": [
    "to_drop = ['^TNX','DIA','SPY']\n",
    "px = prices.drop(to_drop, axis=1)"
   ]
  },
  {
   "cell_type": "code",
   "execution_count": 18,
   "metadata": {},
   "outputs": [],
   "source": [
    "rets_monthly, cov_monthly = calcRetsCov(px, 'M')"
   ]
  },
  {
   "cell_type": "code",
   "execution_count": 19,
   "metadata": {},
   "outputs": [
    {
     "data": {
      "text/html": [
       "<style  type=\"text/css\" >\n",
       "    #T_98eafdf6_3f4c_11eb_9ae7_0242ac110002row0_col0 {\n",
       "            width:  10em;\n",
       "             height:  80%;\n",
       "            background:  linear-gradient(90deg, transparent 50.0%, lightgreen 50.0%, lightgreen 75.9%, transparent 75.9%);\n",
       "        }    #T_98eafdf6_3f4c_11eb_9ae7_0242ac110002row0_col1 {\n",
       "            width:  10em;\n",
       "             height:  80%;\n",
       "            background:  linear-gradient(90deg, transparent 50.0%, lightgreen 50.0%, lightgreen 71.3%, transparent 71.3%);\n",
       "        }    #T_98eafdf6_3f4c_11eb_9ae7_0242ac110002row0_col2 {\n",
       "            width:  10em;\n",
       "             height:  80%;\n",
       "            background:  linear-gradient(90deg, transparent 45.9%, pink 45.9%, pink 50.0%, transparent 50.0%);\n",
       "        }    #T_98eafdf6_3f4c_11eb_9ae7_0242ac110002row0_col3 {\n",
       "            width:  10em;\n",
       "             height:  80%;\n",
       "            background:  linear-gradient(90deg, transparent 50.0%, lightgreen 50.0%, lightgreen 72.5%, transparent 72.5%);\n",
       "        }    #T_98eafdf6_3f4c_11eb_9ae7_0242ac110002row0_col4 {\n",
       "            width:  10em;\n",
       "             height:  80%;\n",
       "            background:  linear-gradient(90deg, transparent 50.0%, lightgreen 50.0%, lightgreen 84.5%, transparent 84.5%);\n",
       "        }    #T_98eafdf6_3f4c_11eb_9ae7_0242ac110002row0_col5 {\n",
       "            width:  10em;\n",
       "             height:  80%;\n",
       "            background:  linear-gradient(90deg, transparent 50.0%, lightgreen 50.0%, lightgreen 81.5%, transparent 81.5%);\n",
       "        }    #T_98eafdf6_3f4c_11eb_9ae7_0242ac110002row0_col6 {\n",
       "            width:  10em;\n",
       "             height:  80%;\n",
       "            background:  linear-gradient(90deg, transparent 50.0%, lightgreen 50.0%, lightgreen 100.0%, transparent 100.0%);\n",
       "        }    #T_98eafdf6_3f4c_11eb_9ae7_0242ac110002row0_col7 {\n",
       "            width:  10em;\n",
       "             height:  80%;\n",
       "            background:  linear-gradient(90deg, transparent 9.5%, pink 9.5%, pink 50.0%, transparent 50.0%);\n",
       "        }    #T_98eafdf6_3f4c_11eb_9ae7_0242ac110002row1_col0 {\n",
       "            width:  10em;\n",
       "             height:  80%;\n",
       "            background:  linear-gradient(90deg, transparent 50.0%, lightgreen 50.0%, lightgreen 100.0%, transparent 100.0%);\n",
       "        }    #T_98eafdf6_3f4c_11eb_9ae7_0242ac110002row1_col1 {\n",
       "            width:  10em;\n",
       "             height:  80%;\n",
       "            background:  linear-gradient(90deg, transparent 50.0%, lightgreen 50.0%, lightgreen 100.0%, transparent 100.0%);\n",
       "        }    #T_98eafdf6_3f4c_11eb_9ae7_0242ac110002row1_col2 {\n",
       "            width:  10em;\n",
       "             height:  80%;\n",
       "            background:  linear-gradient(90deg, transparent 50.0%, lightgreen 50.0%, lightgreen 100.0%, transparent 100.0%);\n",
       "        }    #T_98eafdf6_3f4c_11eb_9ae7_0242ac110002row1_col3 {\n",
       "            width:  10em;\n",
       "             height:  80%;\n",
       "            background:  linear-gradient(90deg, transparent 50.0%, lightgreen 50.0%, lightgreen 100.0%, transparent 100.0%);\n",
       "        }    #T_98eafdf6_3f4c_11eb_9ae7_0242ac110002row1_col4 {\n",
       "            width:  10em;\n",
       "             height:  80%;\n",
       "            background:  linear-gradient(90deg, transparent 50.0%, lightgreen 50.0%, lightgreen 100.0%, transparent 100.0%);\n",
       "        }    #T_98eafdf6_3f4c_11eb_9ae7_0242ac110002row1_col5 {\n",
       "            width:  10em;\n",
       "             height:  80%;\n",
       "            background:  linear-gradient(90deg, transparent 50.0%, lightgreen 50.0%, lightgreen 100.0%, transparent 100.0%);\n",
       "        }    #T_98eafdf6_3f4c_11eb_9ae7_0242ac110002row1_col6 {\n",
       "            width:  10em;\n",
       "             height:  80%;\n",
       "            background:  linear-gradient(90deg, transparent 50.0%, lightgreen 50.0%, lightgreen 91.8%, transparent 91.8%);\n",
       "        }    #T_98eafdf6_3f4c_11eb_9ae7_0242ac110002row1_col7 {\n",
       "            width:  10em;\n",
       "             height:  80%;\n",
       "            background:  linear-gradient(90deg,pink 50.0%, transparent 50.0%);\n",
       "        }</style><table id=\"T_98eafdf6_3f4c_11eb_9ae7_0242ac110002\" ><thead>    <tr>        <th class=\"blank level0\" ></th>        <th class=\"col_heading level0 col0\" >Annualized Return</th>        <th class=\"col_heading level0 col1\" >Annualized Vol</th>        <th class=\"col_heading level0 col2\" >Skewness</th>        <th class=\"col_heading level0 col3\" >Kurtosis</th>        <th class=\"col_heading level0 col4\" >Cornish-Fisher VaR (5%)</th>        <th class=\"col_heading level0 col5\" >Historic CVaR (5%)</th>        <th class=\"col_heading level0 col6\" >Sharpe Ratio</th>        <th class=\"col_heading level0 col7\" >Max Drawdown</th>    </tr></thead><tbody>\n",
       "                <tr>\n",
       "                        <th id=\"T_98eafdf6_3f4c_11eb_9ae7_0242ac110002level0_row0\" class=\"row_heading level0 row0\" >AAPL</th>\n",
       "                        <td id=\"T_98eafdf6_3f4c_11eb_9ae7_0242ac110002row0_col0\" class=\"data row0 col0\" >0.307053</td>\n",
       "                        <td id=\"T_98eafdf6_3f4c_11eb_9ae7_0242ac110002row0_col1\" class=\"data row0 col1\" >0.273130</td>\n",
       "                        <td id=\"T_98eafdf6_3f4c_11eb_9ae7_0242ac110002row0_col2\" class=\"data row0 col2\" >-0.118396</td>\n",
       "                        <td id=\"T_98eafdf6_3f4c_11eb_9ae7_0242ac110002row0_col3\" class=\"data row0 col3\" >2.768716</td>\n",
       "                        <td id=\"T_98eafdf6_3f4c_11eb_9ae7_0242ac110002row0_col4\" class=\"data row0 col4\" >0.106552</td>\n",
       "                        <td id=\"T_98eafdf6_3f4c_11eb_9ae7_0242ac110002row0_col5\" class=\"data row0 col5\" >0.134159</td>\n",
       "                        <td id=\"T_98eafdf6_3f4c_11eb_9ae7_0242ac110002row0_col6\" class=\"data row0 col6\" >1.081232</td>\n",
       "                        <td id=\"T_98eafdf6_3f4c_11eb_9ae7_0242ac110002row0_col7\" class=\"data row0 col7\" >-0.395421</td>\n",
       "            </tr>\n",
       "            <tr>\n",
       "                        <th id=\"T_98eafdf6_3f4c_11eb_9ae7_0242ac110002level0_row1\" class=\"row_heading level0 row1\" >TSLA</th>\n",
       "                        <td id=\"T_98eafdf6_3f4c_11eb_9ae7_0242ac110002row1_col0\" class=\"data row1 col0\" >0.593054</td>\n",
       "                        <td id=\"T_98eafdf6_3f4c_11eb_9ae7_0242ac110002row1_col1\" class=\"data row1 col1\" >0.640788</td>\n",
       "                        <td id=\"T_98eafdf6_3f4c_11eb_9ae7_0242ac110002row1_col2\" class=\"data row1 col2\" >1.447372</td>\n",
       "                        <td id=\"T_98eafdf6_3f4c_11eb_9ae7_0242ac110002row1_col3\" class=\"data row1 col3\" >6.150033</td>\n",
       "                        <td id=\"T_98eafdf6_3f4c_11eb_9ae7_0242ac110002row1_col4\" class=\"data row1 col4\" >0.154349</td>\n",
       "                        <td id=\"T_98eafdf6_3f4c_11eb_9ae7_0242ac110002row1_col5\" class=\"data row1 col5\" >0.213271</td>\n",
       "                        <td id=\"T_98eafdf6_3f4c_11eb_9ae7_0242ac110002row1_col6\" class=\"data row1 col6\" >0.903339</td>\n",
       "                        <td id=\"T_98eafdf6_3f4c_11eb_9ae7_0242ac110002row1_col7\" class=\"data row1 col7\" >-0.487957</td>\n",
       "            </tr>\n",
       "    </tbody></table>"
      ],
      "text/plain": [
       "<pandas.io.formats.style.Styler at 0x7f10dd6a5c10>"
      ]
     },
     "execution_count": 19,
     "metadata": {},
     "output_type": "execute_result"
    }
   ],
   "source": [
    "rfr_period = rfr_monthly\n",
    "rets_period = rets_monthly\n",
    "PERIODS_PER_YEAR = 12\n",
    "\n",
    "erk.summary_stats(rets_period, riskfree_rate=rfr_period[-1], \n",
    "                  periods_per_year=PERIODS_PER_YEAR).sort_values('Sharpe Ratio', ascending=False) \\\n",
    "            .style.bar(color=['pink', 'lightgreen'], align='zero')"
   ]
  },
  {
   "cell_type": "markdown",
   "metadata": {},
   "source": [
    "## Equilibrium Expected Returns"
   ]
  },
  {
   "cell_type": "code",
   "execution_count": 20,
   "metadata": {},
   "outputs": [],
   "source": [
    "def implied_returns(delta, sigma, w):\n",
    "    \"\"\"\n",
    "Obtain the implied expected returns by reverse engineering the weights\n",
    "Inputs:\n",
    "delta: Risk Aversion Coefficient (scalar)\n",
    "sigma: Variance-Covariance Matrix (N x N) as DataFrame\n",
    "    w: Portfolio weights (N x 1) as Series\n",
    "Returns an N x 1 vector of Returns as Series\n",
    "    \"\"\"\n",
    "    ir = delta * sigma.dot(w).squeeze() # to get a series from a 1-column dataframe\n",
    "    ir.name = 'Implied Returns'\n",
    "    return ir\n"
   ]
  },
  {
   "cell_type": "markdown",
   "metadata": {},
   "source": [
    "## Black Litterman Model"
   ]
  },
  {
   "cell_type": "code",
   "execution_count": 60,
   "metadata": {},
   "outputs": [],
   "source": [
    "# Assumes that Omega is proportional to the variance of the prior\n",
    "def proportional_prior(sigma, tau, p):\n",
    "    \"\"\"\n",
    "    Returns the He-Litterman simplified Omega\n",
    "    Inputs:\n",
    "    sigma: N x N Covariance Matrix as DataFrame\n",
    "    tau: a scalar\n",
    "    p: a K x N DataFrame linking Q and Assets\n",
    "    returns a P x P DataFrame, a Matrix representing Prior Uncertainties\n",
    "    \"\"\"\n",
    "    helit_omega = p.dot(tau * sigma).dot(p.T)\n",
    "    # Make a diag matrix from the diag elements of Omega\n",
    "    return pd.DataFrame(np.diag(np.diag(helit_omega.values)),index=p.index, columns=p.index)\n",
    "\n",
    "\n",
    "from numpy.linalg import inv\n",
    "\n",
    "def bl(w_prior, sigma_prior, p, q,\n",
    "                omega=None,\n",
    "                delta=2.5, tau=.02):\n",
    "    \"\"\"\n",
    "# Computes the posterior expected returns based on \n",
    "# the original black litterman reference model\n",
    "#\n",
    "# W.prior must be an N x 1 vector of weights, a Series\n",
    "# Sigma.prior is an N x N covariance matrix, a DataFrame\n",
    "# P must be a K x N matrix linking Q and the Assets, a DataFrame\n",
    "# Q must be an K x 1 vector of views, a Series\n",
    "# Omega must be a K x K matrix a DataFrame, or None\n",
    "# if Omega is None, we assume it is\n",
    "#    proportional to variance of the prior\n",
    "# delta and tau are scalars\n",
    "    \"\"\"\n",
    "    if omega is None:\n",
    "        omega = proportional_prior(sigma_prior, tau, p)\n",
    "    # Force w.prior and Q to be column vectors\n",
    "    # How many assets do we have?\n",
    "    N = w_prior.shape[0]\n",
    "    # And how many views?\n",
    "    K = q.shape[0]\n",
    "    # First, reverse-engineer the weights to get pi\n",
    "    pi = implied_returns(delta, sigma_prior,  w_prior)\n",
    "    # Adjust (scale) Sigma by the uncertainty scaling factor\n",
    "    sigma_prior_scaled = tau * sigma_prior  \n",
    "    # posterior estimate of the mean, use the \"Master Formula\"\n",
    "    # we use the versions that do not require\n",
    "    # Omega to be inverted (see previous section)\n",
    "    # this is easier to read if we use '@' for matrixmult instead of .dot()\n",
    "    #     mu_bl = pi + sigma_prior_scaled @ p.T @ inv(p @ sigma_prior_scaled @ p.T + omega) @ (q - p @ pi)\n",
    "    mu_bl = pi + sigma_prior_scaled.dot(p.T).dot(inv(p.dot(sigma_prior_scaled).dot(p.T) + omega).dot(q - p.dot(pi).values))\n",
    "    # posterior estimate of uncertainty of mu.bl\n",
    "#     sigma_bl = sigma_prior + sigma_prior_scaled - sigma_prior_scaled @ p.T @ inv(p @ sigma_prior_scaled @ p.T + omega) @ p @ sigma_prior_scaled\n",
    "    sigma_bl = sigma_prior + sigma_prior_scaled - sigma_prior_scaled.dot(p.T).dot(inv(p.dot(sigma_prior_scaled).dot(p.T) + omega)).dot(p).dot(sigma_prior_scaled)\n",
    "    return (mu_bl, sigma_bl)\n",
    "\n",
    "# for convenience and readability, define the inverse of a dataframe\n",
    "def inverse(d):\n",
    "    \"\"\"\n",
    "    Invert the dataframe by inverting the underlying matrix\n",
    "    \"\"\"\n",
    "    return pd.DataFrame(inv(d.values), index=d.columns, columns=d.index)\n",
    "\n",
    "def w_msr(sigma, mu, scale=True):\n",
    "    \"\"\"\n",
    "    Optimal (Tangent/Max Sharpe Ratio) Portfolio weights\n",
    "    by using the Markowitz Optimization Procedure\n",
    "    Mu is the vector of Excess expected Returns\n",
    "    Sigma must be an N x N matrix as a DataFrame and Mu a column vector as a Series\n",
    "    This implements page 188 Equation 5.2.28 of\n",
    "    \"The econometrics of financial markets\" Campbell, Lo and Mackinlay.\n",
    "    \"\"\"\n",
    "    w = inverse(sigma).dot(mu)\n",
    "    if scale:\n",
    "        w = w/sum(w) # fix: this assumes all w is +ve\n",
    "    return w"
   ]
  },
  {
   "cell_type": "markdown",
   "metadata": {},
   "source": [
    "## Portfolio Parameters"
   ]
  },
  {
   "cell_type": "code",
   "execution_count": 21,
   "metadata": {},
   "outputs": [],
   "source": [
    "DELTA = 2.5"
   ]
  },
  {
   "cell_type": "code",
   "execution_count": 47,
   "metadata": {},
   "outputs": [
    {
     "data": {
      "text/plain": [
       "ticker\n",
       "AAPL    0.783648\n",
       "TSLA    0.216352\n",
       "Name: marketCap, dtype: float64"
      ]
     },
     "execution_count": 47,
     "metadata": {},
     "output_type": "execute_result"
    }
   ],
   "source": [
    "wgts_prior = tickerlist.marketCap.dropna()/sum(tickerlist.marketCap.dropna())\n",
    "wgts_prior"
   ]
  },
  {
   "cell_type": "code",
   "execution_count": 48,
   "metadata": {},
   "outputs": [
    {
     "data": {
      "text/html": [
       "<div>\n",
       "<style scoped>\n",
       "    .dataframe tbody tr th:only-of-type {\n",
       "        vertical-align: middle;\n",
       "    }\n",
       "\n",
       "    .dataframe tbody tr th {\n",
       "        vertical-align: top;\n",
       "    }\n",
       "\n",
       "    .dataframe thead th {\n",
       "        text-align: right;\n",
       "    }\n",
       "</style>\n",
       "<table border=\"1\" class=\"dataframe\">\n",
       "  <thead>\n",
       "    <tr style=\"text-align: right;\">\n",
       "      <th></th>\n",
       "      <th>AAPL</th>\n",
       "      <th>TSLA</th>\n",
       "    </tr>\n",
       "  </thead>\n",
       "  <tbody>\n",
       "    <tr>\n",
       "      <th>AAPL</th>\n",
       "      <td>0.006217</td>\n",
       "      <td>0.004292</td>\n",
       "    </tr>\n",
       "    <tr>\n",
       "      <th>TSLA</th>\n",
       "      <td>0.004292</td>\n",
       "      <td>0.034217</td>\n",
       "    </tr>\n",
       "  </tbody>\n",
       "</table>\n",
       "</div>"
      ],
      "text/plain": [
       "          AAPL      TSLA\n",
       "AAPL  0.006217  0.004292\n",
       "TSLA  0.004292  0.034217"
      ]
     },
     "execution_count": 48,
     "metadata": {},
     "output_type": "execute_result"
    }
   ],
   "source": [
    "cov_monthly"
   ]
  },
  {
   "cell_type": "markdown",
   "metadata": {},
   "source": [
    "Implied returns given the benchmark wgts (market cap wgts) and covariance matrix"
   ]
  },
  {
   "cell_type": "markdown",
   "metadata": {},
   "source": [
    "## Equilibrium Implied Returns"
   ]
  },
  {
   "cell_type": "code",
   "execution_count": 53,
   "metadata": {},
   "outputs": [
    {
     "data": {
      "text/plain": [
       "AAPL    0.014501\n",
       "TSLA    0.026916\n",
       "Name: Implied Returns, dtype: float64"
      ]
     },
     "execution_count": 53,
     "metadata": {},
     "output_type": "execute_result"
    }
   ],
   "source": [
    "s = cov_monthly\n",
    "pi = implied_returns(delta=DELTA, sigma=s, w=wgts_prior)\n",
    "pi"
   ]
  },
  {
   "cell_type": "code",
   "execution_count": 88,
   "metadata": {},
   "outputs": [
    {
     "data": {
      "image/png": "[encoded data removed]",
      "text/plain": [
       "<Figure size 432x288 with 1 Axes>"
      ]
     },
     "metadata": {
      "needs_background": "light"
     },
     "output_type": "display_data"
    }
   ],
   "source": [
    "pi.plot(kind='bar')\n",
    "plt.show()"
   ]
  },
  {
   "cell_type": "code",
   "execution_count": 114,
   "metadata": {},
   "outputs": [
    {
     "data": {
      "image/png": "[encoded data removed]",
      "text/plain": [
       "<Figure size 432x288 with 1 Axes>"
      ]
     },
     "metadata": {
      "needs_background": "light"
     },
     "output_type": "display_data"
    }
   ],
   "source": [
    "tickers = pi.index\n",
    "er_appl = pi[0]\n",
    "er_tsla = pi[1]\n",
    "\n",
    "mu_exp = pd.Series([er_appl, er_tsla], index=tickers)\n",
    "msr_w = np.round(w_msr(s, mu_exp)*100, 2)\n",
    "\n",
    "msr_w.plot(kind='bar', color='r')\n",
    "plt.show()"
   ]
  },
  {
   "cell_type": "code",
   "execution_count": 125,
   "metadata": {},
   "outputs": [
    {
     "data": {
      "image/png": "[encoded data removed]",
      "text/plain": [
       "<Figure size 432x288 with 1 Axes>"
      ]
     },
     "metadata": {
      "needs_background": "light"
     },
     "output_type": "display_data"
    }
   ],
   "source": [
    "tickers = pi.index\n",
    "er_appl = 0.01\n",
    "er_tsla = 0.01\n",
    "\n",
    "mu_exp = pd.Series([er_appl, er_tsla], index=tickers)\n",
    "excess_mu = mu_exp\n",
    "msr_w = np.round(w_msr(s, mu_exp)*100, 2)\n",
    "\n",
    "msr_w.plot(kind='bar', color='r')\n",
    "plt.show()"
   ]
  },
  {
   "cell_type": "code",
   "execution_count": 151,
   "metadata": {},
   "outputs": [
    {
     "data": {
      "application/vnd.jupyter.widget-view+json": {
       "model_id": "73c6f6838814495a85080dd4e57377ae",
       "version_major": 2,
       "version_minor": 0
      },
      "text/plain": [
       "interactive(children=(FloatSlider(value=0.01450056886683352, description='AAPL', max=0.1, step=0.01), FloatSli…"
      ]
     },
     "metadata": {},
     "output_type": "display_data"
    }
   ],
   "source": [
    "def show_combine_wgts(er1, er2):\n",
    "    \n",
    "    tickers = pi.index\n",
    "\n",
    "    mu_exp = pd.Series([er1, er2], index=tickers)\n",
    "    msr_w = w_msr(s, mu_exp)\n",
    "    \n",
    "    combine_wgts = pd.concat([wgts_prior, msr_w], axis=1)\n",
    "    combine_wgts = combine_wgts * 100\n",
    "    combine_wgts.columns = ['bmk', 'wgts_with_views']\n",
    "    ax = combine_wgts.plot(kind='bar', figsize=(12,6))\n",
    "    for p in ax.patches:\n",
    "        ax.annotate(str(round(p.get_height(), 2)), (p.get_x() + 0.075, p.get_height() + 0.5))\n",
    "\n",
    "### CONTROLS\n",
    "combine_wgts_controls = widgets.interactive(show_combine_wgts,\n",
    "                    er1=widgets.FloatSlider(min=0, max=.1, step=0.01, value=pi[0], description='AAPL'),\n",
    "                    er2=widgets.FloatSlider(min=0, max=.1, step=0.01, value=pi[1], description='TSLA')\n",
    "                    )    \n",
    "\n",
    "### DISPLAY\n",
    "display(combine_wgts_controls)"
   ]
  },
  {
   "cell_type": "markdown",
   "metadata": {},
   "source": [
    "## Black Litterman Asset Allocation Model\n",
    "### Absolute View"
   ]
  },
  {
   "cell_type": "code",
   "execution_count": 65,
   "metadata": {},
   "outputs": [
    {
     "data": {
      "text/plain": [
       "AAPL    0.01\n",
       "TSLA    0.04\n",
       "dtype: float64"
      ]
     },
     "execution_count": 65,
     "metadata": {},
     "output_type": "execute_result"
    }
   ],
   "source": [
    "tickers = pi.index\n",
    "er_appl = 0.01\n",
    "er_tsla = 0.04\n",
    "\n",
    "q = pd.Series([er_appl, er_tsla], index=tickers)\n",
    "q"
   ]
  },
  {
   "cell_type": "code",
   "execution_count": 66,
   "metadata": {},
   "outputs": [
    {
     "data": {
      "text/html": [
       "<div>\n",
       "<style scoped>\n",
       "    .dataframe tbody tr th:only-of-type {\n",
       "        vertical-align: middle;\n",
       "    }\n",
       "\n",
       "    .dataframe tbody tr th {\n",
       "        vertical-align: top;\n",
       "    }\n",
       "\n",
       "    .dataframe thead th {\n",
       "        text-align: right;\n",
       "    }\n",
       "</style>\n",
       "<table border=\"1\" class=\"dataframe\">\n",
       "  <thead>\n",
       "    <tr style=\"text-align: right;\">\n",
       "      <th></th>\n",
       "      <th>AAPL</th>\n",
       "      <th>TSLA</th>\n",
       "    </tr>\n",
       "  </thead>\n",
       "  <tbody>\n",
       "    <tr>\n",
       "      <th>0</th>\n",
       "      <td>1</td>\n",
       "      <td>0</td>\n",
       "    </tr>\n",
       "    <tr>\n",
       "      <th>1</th>\n",
       "      <td>0</td>\n",
       "      <td>1</td>\n",
       "    </tr>\n",
       "  </tbody>\n",
       "</table>\n",
       "</div>"
      ],
      "text/plain": [
       "   AAPL  TSLA\n",
       "0     1     0\n",
       "1     0     1"
      ]
     },
     "execution_count": 66,
     "metadata": {},
     "output_type": "execute_result"
    }
   ],
   "source": [
    "p = pd.DataFrame(np.identity(len(q)).astype(int), columns=tickers)\n",
    "p"
   ]
  },
  {
   "cell_type": "code",
   "execution_count": 67,
   "metadata": {},
   "outputs": [
    {
     "data": {
      "text/plain": [
       "AAPL    0.012719\n",
       "TSLA    0.032519\n",
       "dtype: float64"
      ]
     },
     "execution_count": 67,
     "metadata": {},
     "output_type": "execute_result"
    }
   ],
   "source": [
    "# Find the Black Litterman Expected Returns\n",
    "bl_mu, bl_sigma = bl(w_prior=wgts_prior, sigma_prior=s, p=p, q=q)\n",
    "# Black Litterman Implied Mu\n",
    "bl_mu"
   ]
  },
  {
   "cell_type": "code",
   "execution_count": 68,
   "metadata": {},
   "outputs": [
    {
     "data": {
      "text/plain": [
       "AAPL    0.66716\n",
       "TSLA    0.33284\n",
       "dtype: float64"
      ]
     },
     "execution_count": 68,
     "metadata": {},
     "output_type": "execute_result"
    }
   ],
   "source": [
    "# Use the Black Litterman expected returns to get the Optimal Markowitz weights\n",
    "w_msr(bl_sigma, bl_mu)"
   ]
  },
  {
   "cell_type": "code",
   "execution_count": 156,
   "metadata": {},
   "outputs": [
    {
     "data": {
      "application/vnd.jupyter.widget-view+json": {
       "model_id": "1546e9116ebc45b79aed26c8394c6e50",
       "version_major": 2,
       "version_minor": 0
      },
      "text/plain": [
       "interactive(children=(FloatSlider(value=0.01450056886683352, description='AAPL', max=0.1, step=0.01), FloatSli…"
      ]
     },
     "metadata": {},
     "output_type": "display_data"
    }
   ],
   "source": [
    "def show_bl_wgts_abs_views(er1, er2):\n",
    "    \n",
    "    tickers = pi.index\n",
    "    \n",
    "    mu_exp = pd.Series([er1, er2], index=tickers)\n",
    "    native_w = w_msr(s, mu_exp)\n",
    "    \n",
    "    q = pd.Series([er1, er2], index=tickers)\n",
    "    p = pd.DataFrame(np.identity(len(q)).astype(int), columns=tickers)\n",
    "\n",
    "    bl_mu, bl_sigma = bl(w_prior=wgts_prior, sigma_prior=s, p=p, q=q)\n",
    "    bl_w = w_msr(bl_sigma, bl_mu)\n",
    "    \n",
    "    combine_wgts = pd.concat([wgts_prior, native_w, bl_w], axis=1)\n",
    "    combine_wgts = combine_wgts * 100\n",
    "    combine_wgts.columns = ['bmk', 'naive_wgts_with_views', 'bl_wgts_with_views']\n",
    "    ax = combine_wgts.plot(kind='bar', figsize=(12,6))\n",
    "    for p in ax.patches:\n",
    "        ax.annotate(str(round(p.get_height(), 2)), (p.get_x() + 0.04, p.get_height() + 0.5))\n",
    "\n",
    "### CONTROLS\n",
    "combine_wgts_controls = widgets.interactive(show_bl_wgts_abs_views,\n",
    "                    er1=widgets.FloatSlider(min=0, max=.1, step=0.01, value=pi[0], description='AAPL'),\n",
    "                    er2=widgets.FloatSlider(min=0, max=.1, step=0.01, value=pi[1], description='TSLA')\n",
    "                    )    \n",
    "\n",
    "### DISPLAY\n",
    "display(combine_wgts_controls)"
   ]
  },
  {
   "cell_type": "markdown",
   "metadata": {},
   "source": [
    "### Relative View"
   ]
  },
  {
   "cell_type": "code",
   "execution_count": 69,
   "metadata": {},
   "outputs": [
    {
     "data": {
      "text/plain": [
       "AAPL    0.014501\n",
       "TSLA    0.026916\n",
       "Name: Implied Returns, dtype: float64"
      ]
     },
     "execution_count": 69,
     "metadata": {},
     "output_type": "execute_result"
    }
   ],
   "source": [
    "pi"
   ]
  },
  {
   "cell_type": "code",
   "execution_count": 74,
   "metadata": {},
   "outputs": [
    {
     "data": {
      "text/plain": [
       "AAPL    0.014271\n",
       "TSLA    0.030479\n",
       "dtype: float64"
      ]
     },
     "execution_count": 74,
     "metadata": {},
     "output_type": "execute_result"
    }
   ],
   "source": [
    "q = pd.Series([\n",
    "# Relative View 1: INTC will outperform PFE by 2%\n",
    "  0.02\n",
    "    ]\n",
    ")\n",
    "# The Pick Matrix\n",
    "p = pd.DataFrame([\n",
    "  # For View 1, this is for INTC outperforming PFE\n",
    "  {'AAPL': -1, 'TSLA': 1}\n",
    "])\n",
    "\n",
    "# Find the Black Litterman Expected Returns\n",
    "bl_mu, bl_sigma = bl(w_prior=wgts_prior, sigma_prior=s, p=p, q=q)\n",
    "# Black Litterman Implied Mu\n",
    "bl_mu\n"
   ]
  },
  {
   "cell_type": "code",
   "execution_count": 75,
   "metadata": {},
   "outputs": [
    {
     "data": {
      "text/plain": [
       "-0.01241510421198086"
      ]
     },
     "execution_count": 75,
     "metadata": {},
     "output_type": "execute_result"
    }
   ],
   "source": [
    "pi[0]-pi[1]"
   ]
  },
  {
   "cell_type": "code",
   "execution_count": 76,
   "metadata": {},
   "outputs": [
    {
     "data": {
      "text/plain": [
       "-0.01620755210599043"
      ]
     },
     "execution_count": 76,
     "metadata": {},
     "output_type": "execute_result"
    }
   ],
   "source": [
    "bl_mu[0]-bl_mu[1]"
   ]
  },
  {
   "cell_type": "code",
   "execution_count": 78,
   "metadata": {},
   "outputs": [
    {
     "data": {
      "text/plain": [
       "AAPL    41.89\n",
       "TSLA    58.11\n",
       "dtype: float64"
      ]
     },
     "execution_count": 78,
     "metadata": {},
     "output_type": "execute_result"
    }
   ],
   "source": [
    "# Use the Black Litterman expected returns and covariance matrix\n",
    "excess_mu = bl_mu - rfr_period[-1]\n",
    "np.round(w_msr(bl_sigma, excess_mu)*100, 2)"
   ]
  },
  {
   "cell_type": "code",
   "execution_count": 82,
   "metadata": {},
   "outputs": [
    {
     "data": {
      "text/plain": [
       "AAPL    42.05\n",
       "TSLA    57.95\n",
       "dtype: float64"
      ]
     },
     "execution_count": 82,
     "metadata": {},
     "output_type": "execute_result"
    }
   ],
   "source": [
    "wgts_msr = erk.msr(rfr_period[-1], bl_mu, bl_sigma, longonly=False)\n",
    "wgts_msr = pd.Series(wgts_msr, index=tickers)\n",
    "np.round(wgts_msr*100, 2)"
   ]
  },
  {
   "cell_type": "code",
   "execution_count": 163,
   "metadata": {},
   "outputs": [
    {
     "data": {
      "application/vnd.jupyter.widget-view+json": {
       "model_id": "0339df0559cd40f09d68b940edc7cbca",
       "version_major": 2,
       "version_minor": 0
      },
      "text/plain": [
       "interactive(children=(FloatSlider(value=-0.01241510421198086, description='A vs T', max=0.1, min=-0.1, step=0.…"
      ]
     },
     "metadata": {},
     "output_type": "display_data"
    }
   ],
   "source": [
    "def show_bl_wgts_rel_views(rr):\n",
    "    \n",
    "    tickers = pi.index\n",
    "    \n",
    "    q = pd.Series([rr])\n",
    "    p = pd.DataFrame([\n",
    "      {'AAPL': 1, 'TSLA': -1}\n",
    "    ])\n",
    "\n",
    "    bl_mu, bl_sigma = bl(w_prior=wgts_prior, sigma_prior=s, p=p, q=q)\n",
    "    bl_w = w_msr(bl_sigma, bl_mu)\n",
    "    \n",
    "    combine_wgts = pd.concat([wgts_prior, bl_w], axis=1)\n",
    "    combine_wgts = combine_wgts * 100\n",
    "    combine_wgts.columns = ['bmk', 'bl_wgts_with_views']\n",
    "    ax = combine_wgts.plot(kind='bar', figsize=(12,6))\n",
    "    for p in ax.patches:\n",
    "        ax.annotate(str(round(p.get_height(), 2)), (p.get_x() + 0.04, p.get_height() + 0.5))\n",
    "\n",
    "### CONTROLS\n",
    "combine_wgts_controls = widgets.interactive(show_bl_wgts_rel_views,\n",
    "                    rr=widgets.FloatSlider(min=-0.1, max=.1, step=0.01, value=pi[0]-pi[1], description='A vs T')\n",
    "                    )    \n",
    "\n",
    "### DISPLAY\n",
    "display(combine_wgts_controls)"
   ]
  },
  {
   "cell_type": "code",
   "execution_count": null,
   "metadata": {},
   "outputs": [],
   "source": []
  },
  {
   "cell_type": "code",
   "execution_count": null,
   "metadata": {},
   "outputs": [],
   "source": []
  },
  {
   "cell_type": "code",
   "execution_count": null,
   "metadata": {},
   "outputs": [],
   "source": []
  },
  {
   "cell_type": "markdown",
   "metadata": {},
   "source": [
    "## Adjustments\n",
    "- $\\tau$: A scalar indicating the uncertainty of the prior.  A common technique is to set $\\tau = 1/T$ where $T$ is the number of periods of data used.  \n",
    "- $\\delta$: The investor's risk aversion parameter (default is 2.5)\n",
    "- $\\Omega$: $diag(P (\\tau \\Sigma) P^T) $"
   ]
  },
  {
   "cell_type": "code",
   "execution_count": 85,
   "metadata": {},
   "outputs": [],
   "source": [
    "omega = proportional_prior(s, 0.02, p)"
   ]
  },
  {
   "cell_type": "code",
   "execution_count": 86,
   "metadata": {},
   "outputs": [
    {
     "data": {
      "text/html": [
       "<div>\n",
       "<style scoped>\n",
       "    .dataframe tbody tr th:only-of-type {\n",
       "        vertical-align: middle;\n",
       "    }\n",
       "\n",
       "    .dataframe tbody tr th {\n",
       "        vertical-align: top;\n",
       "    }\n",
       "\n",
       "    .dataframe thead th {\n",
       "        text-align: right;\n",
       "    }\n",
       "</style>\n",
       "<table border=\"1\" class=\"dataframe\">\n",
       "  <thead>\n",
       "    <tr style=\"text-align: right;\">\n",
       "      <th></th>\n",
       "      <th>0</th>\n",
       "    </tr>\n",
       "  </thead>\n",
       "  <tbody>\n",
       "    <tr>\n",
       "      <th>0</th>\n",
       "      <td>0.000637</td>\n",
       "    </tr>\n",
       "  </tbody>\n",
       "</table>\n",
       "</div>"
      ],
      "text/plain": [
       "          0\n",
       "0  0.000637"
      ]
     },
     "execution_count": 86,
     "metadata": {},
     "output_type": "execute_result"
    }
   ],
   "source": [
    "omega"
   ]
  },
  {
   "cell_type": "code",
   "execution_count": null,
   "metadata": {},
   "outputs": [],
   "source": []
  }
 ],
 "metadata": {
  "kernelspec": {
   "display_name": "Python 3",
   "language": "python",
   "name": "python3"
  },
  "language_info": {
   "codemirror_mode": {
    "name": "ipython",
    "version": 3
   },
   "file_extension": ".py",
   "mimetype": "text/x-python",
   "name": "python",
   "nbconvert_exporter": "python",
   "pygments_lexer": "ipython3",
   "version": "3.8.3"
  }
 },
 "nbformat": 4,
 "nbformat_minor": 4
}
