{
 "cells": [
  {
   "cell_type": "code",
   "execution_count": 37,
   "metadata": {},
   "outputs": [
    {
     "data": {
      "text/html": [
       "<style>\n",
       "    table {\n",
       "        display: inline-block\n",
       "    }\n",
       "</style>\n"
      ],
      "text/plain": [
       "<IPython.core.display.HTML object>"
      ]
     },
     "metadata": {},
     "output_type": "display_data"
    }
   ],
   "source": [
    "%%html\n",
    "<style>\n",
    "    table {\n",
    "        display: inline-block\n",
    "    }\n",
    "</style>"
   ]
  },
  {
   "cell_type": "markdown",
   "metadata": {},
   "source": [
    "# Black Litterman Asset Allocation Model - 2 Assets\n",
    "by Chee-Foong on 18 Dec 2020\n",
    "\n",
    "## Summary\n",
    "The Black-Litterman asset allocation model provides a methodical way of combining investors' subjective views of the future performance of a risky investment asset with the views implied by the market equilibrium.\n",
    "\n",
    "As a basic introduction to the model, this notebook uses two assets for allocation.  Building off this foundation, the model can be extended to N assets.\n",
    "\n",
    "## Data\n",
    "\n",
    "| Information Type | Details |\n",
    "| :- | :- |\n",
    "| Source | Yahoo Finance |\n",
    "| Risk Free Rate | Treasury Yield 10 Years (^TNX) |\n",
    "| Assets | Apple Share Price (AAPL) <p> Tesla Share Price (TSLA) |\n",
    "| Date Range | 1 Jan 2016 to 31 Dec 2020 (5 Years) |\n",
    "| Return Frequency | Monthly |"
   ]
  },
  {
   "cell_type": "markdown",
   "metadata": {},
   "source": [
    "## Reference\n",
    "1. https://faculty.fuqua.duke.edu/~charvey/Teaching/IntesaBci_2001/GS_The_intuition_behind.pdf\n",
    "2. https://www.stat.berkeley.edu/~nolan/vigre/reports/Black-Litterman.pdf\n",
    "3. https://www.mit.edu/~dbertsim/papers/Finance/Inverse%20Optimization%20-%20A%20New%20Perspective%20on%20the%20Black-Litterman%20Model.pdf\n",
    "4. https://projecteuclid.org/download/pdfview_1/euclid.bj/1241444898\n",
    "5. https://pyportfolioopt.readthedocs.io/en/latest/BlackLitterman.html#"
   ]
  },
  {
   "cell_type": "markdown",
   "metadata": {},
   "source": [
    "## Import Libraries"
   ]
  },
  {
   "cell_type": "code",
   "execution_count": 2,
   "metadata": {},
   "outputs": [],
   "source": [
    "import warnings\n",
    "warnings.filterwarnings(\"ignore\", category=FutureWarning)\n",
    "warnings.filterwarnings(\"ignore\", category=Warning)\n",
    "\n",
    "import sys  \n",
    "sys.path.append('../src') \n",
    "from edge_risk_kit import *\n",
    "\n",
    "import edge_risk_kit as erk\n",
    "\n",
    "import ipywidgets as widgets\n",
    "from IPython.display import display\n",
    "from ipywidgets import HBox, Label, Box"
   ]
  },
  {
   "cell_type": "code",
   "execution_count": 3,
   "metadata": {},
   "outputs": [],
   "source": [
    "import numpy as np\n",
    "import pandas as pd\n",
    "from datetime import datetime\n",
    "\n",
    "import seaborn as sns\n",
    "import matplotlib.pyplot as plt\n",
    "%matplotlib inline\n",
    "\n",
    "DATA_FOLDER = '../data/'"
   ]
  },
  {
   "cell_type": "markdown",
   "metadata": {},
   "source": [
    "## Import Data"
   ]
  },
  {
   "cell_type": "code",
   "execution_count": 4,
   "metadata": {},
   "outputs": [],
   "source": [
    "tickers = ['AAPL','TSLA','^TNX']\n",
    "\n",
    "start_date = '2016-01-01'\n",
    "end_date = '2020-12-31'"
   ]
  },
  {
   "cell_type": "code",
   "execution_count": 5,
   "metadata": {},
   "outputs": [],
   "source": [
    "import yfinance as yf\n",
    "\n",
    "tickerlist = []\n",
    "\n",
    "for ticker in tickers:\n",
    "    tickerinfo = {}\n",
    "    tickerinfo['ticker'] = ticker\n",
    "    tickerinfo['name'] = yf.Ticker(ticker).info['shortName']\n",
    "    tickerinfo['marketCap'] = yf.Ticker(ticker).info['marketCap']\n",
    "    tickerlist.append(tickerinfo)\n",
    "    \n",
    "tickerlist = pd.DataFrame(tickerlist)\n",
    "tickerlist.set_index('ticker', inplace=True)"
   ]
  },
  {
   "cell_type": "code",
   "execution_count": 6,
   "metadata": {},
   "outputs": [
    {
     "name": "stdout",
     "output_type": "stream",
     "text": [
      "[*********************100%***********************]  3 of 3 completed\n"
     ]
    }
   ],
   "source": [
    "data = yf.download(tickers, start=start_date, end=end_date)\n",
    "prices = data['Adj Close'][tickers].dropna()"
   ]
  },
  {
   "cell_type": "code",
   "execution_count": 7,
   "metadata": {},
   "outputs": [
    {
     "data": {
      "text/html": [
       "<div>\n",
       "<style scoped>\n",
       "    .dataframe tbody tr th:only-of-type {\n",
       "        vertical-align: middle;\n",
       "    }\n",
       "\n",
       "    .dataframe tbody tr th {\n",
       "        vertical-align: top;\n",
       "    }\n",
       "\n",
       "    .dataframe thead th {\n",
       "        text-align: right;\n",
       "    }\n",
       "</style>\n",
       "<table border=\"1\" class=\"dataframe\">\n",
       "  <thead>\n",
       "    <tr style=\"text-align: right;\">\n",
       "      <th></th>\n",
       "      <th>name</th>\n",
       "      <th>marketCap</th>\n",
       "    </tr>\n",
       "    <tr>\n",
       "      <th>ticker</th>\n",
       "      <th></th>\n",
       "      <th></th>\n",
       "    </tr>\n",
       "  </thead>\n",
       "  <tbody>\n",
       "    <tr>\n",
       "      <th>AAPL</th>\n",
       "      <td>Apple Inc.</td>\n",
       "      <td>2.153363e+12</td>\n",
       "    </tr>\n",
       "    <tr>\n",
       "      <th>TSLA</th>\n",
       "      <td>Tesla, Inc.</td>\n",
       "      <td>6.587912e+11</td>\n",
       "    </tr>\n",
       "    <tr>\n",
       "      <th>^TNX</th>\n",
       "      <td>CBOE Interest Rate 10 Year T No</td>\n",
       "      <td>NaN</td>\n",
       "    </tr>\n",
       "  </tbody>\n",
       "</table>\n",
       "</div>"
      ],
      "text/plain": [
       "                                   name     marketCap\n",
       "ticker                                               \n",
       "AAPL                         Apple Inc.  2.153363e+12\n",
       "TSLA                        Tesla, Inc.  6.587912e+11\n",
       "^TNX    CBOE Interest Rate 10 Year T No           NaN"
      ]
     },
     "execution_count": 7,
     "metadata": {},
     "output_type": "execute_result"
    }
   ],
   "source": [
    "tickerlist"
   ]
  },
  {
   "cell_type": "markdown",
   "metadata": {},
   "source": [
    "---\n",
    "## Risk Free Rate - 10 Year Treasury Yield"
   ]
  },
  {
   "cell_type": "code",
   "execution_count": 8,
   "metadata": {},
   "outputs": [
    {
     "name": "stdout",
     "output_type": "stream",
     "text": [
      "Risk Free Rate: 0.948%\n"
     ]
    }
   ],
   "source": [
    "rfr = prices['^TNX']/100\n",
    "print('Risk Free Rate: {:.3f}%'.format(rfr[-1]*100))"
   ]
  },
  {
   "cell_type": "code",
   "execution_count": 9,
   "metadata": {},
   "outputs": [
    {
     "data": {
      "text/plain": [
       "Date\n",
       "2020-08    0.00693\n",
       "2020-09    0.00677\n",
       "2020-10    0.00860\n",
       "2020-11    0.00844\n",
       "2020-12    0.00948\n",
       "Freq: M, Name: ^TNX, dtype: float64"
      ]
     },
     "execution_count": 9,
     "metadata": {},
     "output_type": "execute_result"
    }
   ],
   "source": [
    "rfr_monthly = rfr.resample('M').fillna('ffill')\n",
    "rfr_monthly.index = rfr_monthly.index.to_period('M')\n",
    "rfr_monthly.tail()"
   ]
  },
  {
   "cell_type": "markdown",
   "metadata": {},
   "source": [
    "---\n",
    "## Asset Prices and Statistics"
   ]
  },
  {
   "cell_type": "code",
   "execution_count": 10,
   "metadata": {},
   "outputs": [],
   "source": [
    "def calcRetsCov(px, freq):\n",
    "    px_freq = px.resample(freq).fillna('ffill')\n",
    "    px_freq.index = px_freq.index.to_period(freq)\n",
    "\n",
    "    rets = px_freq.pct_change().dropna()\n",
    "    cov = rets.cov()\n",
    "    return rets, cov"
   ]
  },
  {
   "cell_type": "code",
   "execution_count": 11,
   "metadata": {},
   "outputs": [],
   "source": [
    "to_drop = ['^TNX']\n",
    "px = prices.drop(to_drop, axis=1)"
   ]
  },
  {
   "cell_type": "code",
   "execution_count": 12,
   "metadata": {},
   "outputs": [
    {
     "data": {
      "image/png": "[encoded data removed]",
      "text/plain": [
       "<Figure size 864x432 with 1 Axes>"
      ]
     },
     "metadata": {
      "needs_background": "light"
     },
     "output_type": "display_data"
    }
   ],
   "source": [
    "ax = px.plot(figsize=(12,6))\n",
    "plt.show()"
   ]
  },
  {
   "cell_type": "code",
   "execution_count": 13,
   "metadata": {},
   "outputs": [],
   "source": [
    "rets_monthly, cov_monthly = calcRetsCov(px, 'M')"
   ]
  },
  {
   "cell_type": "code",
   "execution_count": 14,
   "metadata": {},
   "outputs": [
    {
     "data": {
      "text/html": [
       "<style  type=\"text/css\" >\n",
       "    #T_3c83309e_42e2_11eb_a890_0242ac110002row0_col0 {\n",
       "            width:  10em;\n",
       "             height:  80%;\n",
       "            background:  linear-gradient(90deg, transparent 50.0%, lightgreen 50.0%, lightgreen 77.6%, transparent 77.6%);\n",
       "        }    #T_3c83309e_42e2_11eb_a890_0242ac110002row0_col1 {\n",
       "            width:  10em;\n",
       "             height:  80%;\n",
       "            background:  linear-gradient(90deg, transparent 50.0%, lightgreen 50.0%, lightgreen 72.4%, transparent 72.4%);\n",
       "        }    #T_3c83309e_42e2_11eb_a890_0242ac110002row0_col2 {\n",
       "            width:  10em;\n",
       "             height:  80%;\n",
       "            background:  linear-gradient(90deg, transparent 39.2%, pink 39.2%, pink 50.0%, transparent 50.0%);\n",
       "        }    #T_3c83309e_42e2_11eb_a890_0242ac110002row0_col3 {\n",
       "            width:  10em;\n",
       "             height:  80%;\n",
       "            background:  linear-gradient(90deg, transparent 50.0%, lightgreen 50.0%, lightgreen 77.8%, transparent 77.8%);\n",
       "        }    #T_3c83309e_42e2_11eb_a890_0242ac110002row0_col4 {\n",
       "            width:  10em;\n",
       "             height:  80%;\n",
       "            background:  linear-gradient(90deg, transparent 50.0%, lightgreen 50.0%, lightgreen 83.0%, transparent 83.0%);\n",
       "        }    #T_3c83309e_42e2_11eb_a890_0242ac110002row0_col5 {\n",
       "            width:  10em;\n",
       "             height:  80%;\n",
       "            background:  linear-gradient(90deg, transparent 50.0%, lightgreen 50.0%, lightgreen 83.5%, transparent 83.5%);\n",
       "        }    #T_3c83309e_42e2_11eb_a890_0242ac110002row0_col6 {\n",
       "            width:  10em;\n",
       "             height:  80%;\n",
       "            background:  linear-gradient(90deg, transparent 50.0%, lightgreen 50.0%, lightgreen 100.0%, transparent 100.0%);\n",
       "        }    #T_3c83309e_42e2_11eb_a890_0242ac110002row0_col7 {\n",
       "            width:  10em;\n",
       "             height:  80%;\n",
       "            background:  linear-gradient(90deg, transparent 18.8%, pink 18.8%, pink 50.0%, transparent 50.0%);\n",
       "        }    #T_3c83309e_42e2_11eb_a890_0242ac110002row1_col0 {\n",
       "            width:  10em;\n",
       "             height:  80%;\n",
       "            background:  linear-gradient(90deg, transparent 50.0%, lightgreen 50.0%, lightgreen 100.0%, transparent 100.0%);\n",
       "        }    #T_3c83309e_42e2_11eb_a890_0242ac110002row1_col1 {\n",
       "            width:  10em;\n",
       "             height:  80%;\n",
       "            background:  linear-gradient(90deg, transparent 50.0%, lightgreen 50.0%, lightgreen 100.0%, transparent 100.0%);\n",
       "        }    #T_3c83309e_42e2_11eb_a890_0242ac110002row1_col2 {\n",
       "            width:  10em;\n",
       "             height:  80%;\n",
       "            background:  linear-gradient(90deg, transparent 50.0%, lightgreen 50.0%, lightgreen 100.0%, transparent 100.0%);\n",
       "        }    #T_3c83309e_42e2_11eb_a890_0242ac110002row1_col3 {\n",
       "            width:  10em;\n",
       "             height:  80%;\n",
       "            background:  linear-gradient(90deg, transparent 50.0%, lightgreen 50.0%, lightgreen 100.0%, transparent 100.0%);\n",
       "        }    #T_3c83309e_42e2_11eb_a890_0242ac110002row1_col4 {\n",
       "            width:  10em;\n",
       "             height:  80%;\n",
       "            background:  linear-gradient(90deg, transparent 50.0%, lightgreen 50.0%, lightgreen 100.0%, transparent 100.0%);\n",
       "        }    #T_3c83309e_42e2_11eb_a890_0242ac110002row1_col5 {\n",
       "            width:  10em;\n",
       "             height:  80%;\n",
       "            background:  linear-gradient(90deg, transparent 50.0%, lightgreen 50.0%, lightgreen 100.0%, transparent 100.0%);\n",
       "        }    #T_3c83309e_42e2_11eb_a890_0242ac110002row1_col6 {\n",
       "            width:  10em;\n",
       "             height:  80%;\n",
       "            background:  linear-gradient(90deg, transparent 50.0%, lightgreen 50.0%, lightgreen 91.0%, transparent 91.0%);\n",
       "        }    #T_3c83309e_42e2_11eb_a890_0242ac110002row1_col7 {\n",
       "            width:  10em;\n",
       "             height:  80%;\n",
       "            background:  linear-gradient(90deg,pink 50.0%, transparent 50.0%);\n",
       "        }</style><table id=\"T_3c83309e_42e2_11eb_a890_0242ac110002\" ><thead>    <tr>        <th class=\"blank level0\" ></th>        <th class=\"col_heading level0 col0\" >Annualized Return</th>        <th class=\"col_heading level0 col1\" >Annualized Vol</th>        <th class=\"col_heading level0 col2\" >Skewness</th>        <th class=\"col_heading level0 col3\" >Kurtosis</th>        <th class=\"col_heading level0 col4\" >Cornish-Fisher VaR (5%)</th>        <th class=\"col_heading level0 col5\" >Historic CVaR (5%)</th>        <th class=\"col_heading level0 col6\" >Sharpe Ratio</th>        <th class=\"col_heading level0 col7\" >Max Drawdown</th>    </tr></thead><tbody>\n",
       "                <tr>\n",
       "                        <th id=\"T_3c83309e_42e2_11eb_a890_0242ac110002level0_row0\" class=\"row_heading level0 row0\" >AAPL</th>\n",
       "                        <td id=\"T_3c83309e_42e2_11eb_a890_0242ac110002row0_col0\" class=\"data row0 col0\" >0.390339</td>\n",
       "                        <td id=\"T_3c83309e_42e2_11eb_a890_0242ac110002row0_col1\" class=\"data row0 col1\" >0.299606</td>\n",
       "                        <td id=\"T_3c83309e_42e2_11eb_a890_0242ac110002row0_col2\" class=\"data row0 col2\" >-0.260055</td>\n",
       "                        <td id=\"T_3c83309e_42e2_11eb_a890_0242ac110002row0_col3\" class=\"data row0 col3\" >2.665364</td>\n",
       "                        <td id=\"T_3c83309e_42e2_11eb_a890_0242ac110002row0_col4\" class=\"data row0 col4\" >0.116393</td>\n",
       "                        <td id=\"T_3c83309e_42e2_11eb_a890_0242ac110002row0_col5\" class=\"data row0 col5\" >0.148444</td>\n",
       "                        <td id=\"T_3c83309e_42e2_11eb_a890_0242ac110002row0_col6\" class=\"data row0 col6\" >1.260250</td>\n",
       "                        <td id=\"T_3c83309e_42e2_11eb_a890_0242ac110002row0_col7\" class=\"data row0 col7\" >-0.304615</td>\n",
       "            </tr>\n",
       "            <tr>\n",
       "                        <th id=\"T_3c83309e_42e2_11eb_a890_0242ac110002level0_row1\" class=\"row_heading level0 row1\" >TSLA</th>\n",
       "                        <td id=\"T_3c83309e_42e2_11eb_a890_0242ac110002row1_col0\" class=\"data row1 col0\" >0.706652</td>\n",
       "                        <td id=\"T_3c83309e_42e2_11eb_a890_0242ac110002row1_col1\" class=\"data row1 col1\" >0.668802</td>\n",
       "                        <td id=\"T_3c83309e_42e2_11eb_a890_0242ac110002row1_col2\" class=\"data row1 col2\" >1.199147</td>\n",
       "                        <td id=\"T_3c83309e_42e2_11eb_a890_0242ac110002row1_col3\" class=\"data row1 col3\" >4.799112</td>\n",
       "                        <td id=\"T_3c83309e_42e2_11eb_a890_0242ac110002row1_col4\" class=\"data row1 col4\" >0.176302</td>\n",
       "                        <td id=\"T_3c83309e_42e2_11eb_a890_0242ac110002row1_col5\" class=\"data row1 col5\" >0.221356</td>\n",
       "                        <td id=\"T_3c83309e_42e2_11eb_a890_0242ac110002row1_col6\" class=\"data row1 col6\" >1.033335</td>\n",
       "                        <td id=\"T_3c83309e_42e2_11eb_a890_0242ac110002row1_col7\" class=\"data row1 col7\" >-0.487957</td>\n",
       "            </tr>\n",
       "    </tbody></table>"
      ],
      "text/plain": [
       "<pandas.io.formats.style.Styler at 0x7f7b019aa3a0>"
      ]
     },
     "execution_count": 14,
     "metadata": {},
     "output_type": "execute_result"
    }
   ],
   "source": [
    "rfr_period = rfr_monthly\n",
    "rets_period = rets_monthly\n",
    "PERIODS_PER_YEAR = 12\n",
    "\n",
    "erk.summary_stats(rets_period, riskfree_rate=rfr_period[-1], \n",
    "                  periods_per_year=PERIODS_PER_YEAR).sort_values('Sharpe Ratio', ascending=False) \\\n",
    "            .style.bar(color=['pink', 'lightgreen'], align='zero')"
   ]
  },
  {
   "cell_type": "markdown",
   "metadata": {},
   "source": [
    "## Black Littleman Asset Allocation Model\n",
    "\n",
    "### Procedures\n",
    "1. Set the default parameters\n",
    "2. Calculate the benchmark weights\n",
    "3. Estimate the covariance matrix\n",
    "2. Estimate the equilibrium implied returns using benchmark weights and covariance matrix\n",
    "3. Set the investor's views\n",
    "4. Estimate the Black-Litterman expected returns and covariance matrix\n",
    "5. Calculate the optimised weights using maximum sharpe ratio using BL expected returns and convariance matrix\n",
    "\n",
    "\n",
    "### Market Parameter Inputs\n",
    "\n",
    "| Parameters | Description | Remarks |\n",
    "| :- | :- | :- | \n",
    "| $w$ | A Column Vector ($N \\times 1$) of Equilibrium Market Weights of the Assets | Market Cap Weights of the 2 Assets |\n",
    "| $\\Sigma$ | A Covariance Matrix ($N \\times N$) of the Assets | Covariance Matrix of Monthly Returns between 2 Assets |\n",
    "| $R_f$ | The Risk Free Rate | Latest Treasury Yield 10 Years |\n",
    "| $\\delta$ | The investor's Risk Aversion parameter | Default in this analysis is 2.5.  Alternatively, $\\delta = \\mu_M/\\sigma^2_M$ |\n",
    "| $\\tau$ | A scalar indicating the uncertainty of the prior | Default in this analysis is 0.02.  Alternatively, $\\tau = 1/T$ where $T$ is the number of periods of data used. |\n",
    "\n",
    "\n",
    "### Investor Views Inputs\n",
    "\n",
    "| Parameters | Description | Remarks |\n",
    "| :- | :- | :- | \n",
    "| $Q$ | An $K \\times 1$ 'Qualitative Views' or simply, Views matrix | Absolute views of an asset's expected return vs the market's implied return.  Eg: Expected return of AAPL is 3% instead of market implied return of 2%.  <p><p> Relative views of an asset's expected return vs another asset's expected return. Eg: Expected return of AAPL will overperform TSLA by 2%. |\n",
    "| $P$ | A $K \\times N$ 'Projection' or 'Pick' matrix, linking each view to the assets | If $Q$ is absolute view, $P$ is an identity $N$ x $N$ matrix where N is the number of assets. <p><p> If $Q$ is relative view, $P$ is a $K$ x $N$ matrix where N is the number of assets and K is the number of relative views. -1 marked for the underperforming asset, 1 marked for the overperforming asset and 0 for the rest.|\n",
    "| $\\Omega$ | A Covariance matrix representing the uncertainty of views | The diagonal matrix obtained from the diagonal elements of $P \\tau \\Sigma P^T$ |\n"
   ]
  },
  {
   "cell_type": "markdown",
   "metadata": {},
   "source": [
    "### Implied Expected Returns at Equilibrium \n",
    "\n",
    "The implied returns vector $\\pi$ from a set of portfolio weights $w$.\n",
    "\n",
    "$$\\pi = \\delta\\Sigma w$$\n",
    "\n",
    "$w$ is usually the benchmark weights.  Market cap weights of AAPL and TSLA in our example here."
   ]
  },
  {
   "cell_type": "code",
   "execution_count": 15,
   "metadata": {},
   "outputs": [],
   "source": [
    "def implied_returns(delta, sigma, w):\n",
    "    \"\"\"\n",
    "Obtain the implied expected returns by reverse engineering the weights\n",
    "Inputs:\n",
    "delta: Risk Aversion Coefficient (scalar)\n",
    "sigma: Variance-Covariance Matrix (N x N) as DataFrame\n",
    "    w: Portfolio weights (N x 1) as Series\n",
    "Returns an N x 1 vector of Returns as Series\n",
    "    \"\"\"\n",
    "    ir = delta * sigma.dot(w).squeeze() # to get a series from a 1-column dataframe\n",
    "    ir.name = 'Implied Returns'\n",
    "    return ir"
   ]
  },
  {
   "cell_type": "markdown",
   "metadata": {},
   "source": [
    "### Omega matrix\n",
    "\n",
    "The uncertaintly associated with the view in the $\\Omega$ matrix, one could make the simplifying assumption that $\\Omega$ is proportional to the variance of the benchmark.\n",
    "\n",
    "$$\\Omega = diag(P (\\tau \\Sigma) P^T) $$"
   ]
  },
  {
   "cell_type": "code",
   "execution_count": 16,
   "metadata": {},
   "outputs": [],
   "source": [
    "# Assumes that Omega is proportional to the variance of the benchmark\n",
    "def proportional_prior(sigma, tau, p):\n",
    "    \"\"\"\n",
    "    Returns the He-Litterman simplified Omega\n",
    "    Inputs:\n",
    "    sigma: N x N Covariance Matrix as DataFrame\n",
    "    tau: a scalar\n",
    "    p: a K x N DataFrame linking Q and Assets\n",
    "    returns a P x P DataFrame, a Matrix representing Prior Uncertainties\n",
    "    \"\"\"\n",
    "    helit_omega = p.dot(tau * sigma).dot(p.T)\n",
    "    # Make a diag matrix from the diag elements of Omega\n",
    "    return pd.DataFrame(np.diag(np.diag(helit_omega.values)),index=p.index, columns=p.index)"
   ]
  },
  {
   "cell_type": "markdown",
   "metadata": {},
   "source": [
    "### Black Litterman Formula\n",
    "\n",
    "The first step of the procedure is a _reverse-optimization_ step that infers the implied returns vector $\\pi$ that are implied by the equilibrium weights $w$ using the formula:\n",
    "\n",
    "$$\\pi = \\delta\\Sigma w$$\n",
    "\n",
    "Next, the posterior returns and covariances are obtained from the _Black-Litterman Master Formula_ which is the following set of equations:\n",
    "\n",
    "\\begin{equation}\n",
    "\\label{eq:blMu}\n",
    "\\mu^{BL} = \\pi + \\tau \\Sigma P^T[(P \\tau \\Sigma P^T) + \\Omega]^{-1}[Q - P \\pi]\n",
    "\\end{equation}\n",
    "\n",
    "\\begin{equation}\n",
    "\\label{eq:blSigma}\n",
    "\\Sigma^{BL} = \\Sigma + \\tau \\Sigma - \\tau\\Sigma P^T(P \\tau \\Sigma P^T + \\Omega)^{-1} P \\tau \\Sigma\n",
    "\\end{equation}\n"
   ]
  },
  {
   "cell_type": "code",
   "execution_count": 17,
   "metadata": {},
   "outputs": [],
   "source": [
    "from numpy.linalg import inv\n",
    "\n",
    "def bl(w_prior, sigma_prior, p, q,\n",
    "                omega=None,\n",
    "                delta=2.5, tau=.02):\n",
    "    \"\"\"\n",
    "# Computes the posterior expected returns based on \n",
    "# the original black litterman reference model\n",
    "#\n",
    "# W.prior must be an N x 1 vector of weights, a Series\n",
    "# Sigma.prior is an N x N covariance matrix, a DataFrame\n",
    "# P must be a K x N matrix linking Q and the Assets, a DataFrame\n",
    "# Q must be an K x 1 vector of views, a Series\n",
    "# Omega must be a K x K matrix a DataFrame, or None\n",
    "# if Omega is None, we assume it is\n",
    "#    proportional to variance of the prior\n",
    "# delta and tau are scalars\n",
    "    \"\"\"\n",
    "    if omega is None:\n",
    "        omega = proportional_prior(sigma_prior, tau, p)\n",
    "    # Force w.prior and Q to be column vectors\n",
    "    # How many assets do we have?\n",
    "    N = w_prior.shape[0]\n",
    "    # And how many views?\n",
    "    K = q.shape[0]\n",
    "    # First, reverse-engineer the weights to get pi\n",
    "    pi = implied_returns(delta, sigma_prior,  w_prior)\n",
    "    # Adjust (scale) Sigma by the uncertainty scaling factor\n",
    "    sigma_prior_scaled = tau * sigma_prior  \n",
    "    # posterior estimate of the mean, use the \"Master Formula\"\n",
    "    # we use the versions that do not require\n",
    "    # Omega to be inverted (see previous section)\n",
    "    # this is easier to read if we use '@' for matrixmult instead of .dot()\n",
    "    #     mu_bl = pi + sigma_prior_scaled @ p.T @ inv(p @ sigma_prior_scaled @ p.T + omega) @ (q - p @ pi)\n",
    "    mu_bl = pi + sigma_prior_scaled.dot(p.T).dot(inv(p.dot(sigma_prior_scaled).dot(p.T) + omega).dot(q - p.dot(pi).values))\n",
    "    # posterior estimate of uncertainty of mu.bl\n",
    "#     sigma_bl = sigma_prior + sigma_prior_scaled - sigma_prior_scaled @ p.T @ inv(p @ sigma_prior_scaled @ p.T + omega) @ p @ sigma_prior_scaled\n",
    "    sigma_bl = sigma_prior + sigma_prior_scaled - sigma_prior_scaled.dot(p.T).dot(inv(p.dot(sigma_prior_scaled).dot(p.T) + omega)).dot(p).dot(sigma_prior_scaled)\n",
    "    return (mu_bl, sigma_bl)"
   ]
  },
  {
   "cell_type": "markdown",
   "metadata": {},
   "source": [
    "### Asset Allocation using Maximum Sharpe Ratio Portfolio\n",
    "\n",
    "The Max Sharpe Ratio (MSR) Portfolio weights are easily computed in explicit form if there are no constraints on the weights.\n",
    "The weights are given by the expression:\n",
    "\n",
    "$$ W_{MSR} = \\frac{\\Sigma^{-1}\\mu_e}{\\bf{1}^T \\Sigma^{-1}\\mu_e} $$\n",
    "\n",
    "where $\\mu_e$ is the vector of expected excess returns and $\\Sigma$ is the variance-covariance matrix."
   ]
  },
  {
   "cell_type": "code",
   "execution_count": 18,
   "metadata": {},
   "outputs": [],
   "source": [
    "# for convenience and readability, define the inverse of a dataframe\n",
    "def inverse(d):\n",
    "    \"\"\"\n",
    "    Invert the dataframe by inverting the underlying matrix\n",
    "    \"\"\"\n",
    "    return pd.DataFrame(inv(d.values), index=d.columns, columns=d.index)\n",
    "\n",
    "def w_msr(sigma, mu, scale=True):\n",
    "    \"\"\"\n",
    "    Optimal (Tangent/Max Sharpe Ratio) Portfolio weights\n",
    "    by using the Markowitz Optimization Procedure\n",
    "    Mu is the vector of Excess expected Returns\n",
    "    Sigma must be an N x N matrix as a DataFrame and Mu a column vector as a Series\n",
    "    This implements page 188 Equation 5.2.28 of\n",
    "    \"The econometrics of financial markets\" Campbell, Lo and Mackinlay.\n",
    "    \"\"\"\n",
    "    w = inverse(sigma).dot(mu)\n",
    "    if scale:\n",
    "        w = w/sum(w) # fix: this assumes all w is +ve\n",
    "    return w"
   ]
  },
  {
   "cell_type": "markdown",
   "metadata": {},
   "source": [
    "---\n",
    "# Two Asset Portfolio Example\n",
    "\n",
    "## Markowitz procedure\n",
    "\n",
    "Default Parameters  \n",
    "- $\\delta$ = 2.5  \n",
    "- $\\tau$ = 0.02"
   ]
  },
  {
   "cell_type": "markdown",
   "metadata": {},
   "source": [
    "Benchmark (Market Cap) Weights"
   ]
  },
  {
   "cell_type": "code",
   "execution_count": 19,
   "metadata": {},
   "outputs": [
    {
     "data": {
      "text/html": [
       "<div>\n",
       "<style scoped>\n",
       "    .dataframe tbody tr th:only-of-type {\n",
       "        vertical-align: middle;\n",
       "    }\n",
       "\n",
       "    .dataframe tbody tr th {\n",
       "        vertical-align: top;\n",
       "    }\n",
       "\n",
       "    .dataframe thead th {\n",
       "        text-align: right;\n",
       "    }\n",
       "</style>\n",
       "<table border=\"1\" class=\"dataframe\">\n",
       "  <thead>\n",
       "    <tr style=\"text-align: right;\">\n",
       "      <th></th>\n",
       "      <th>marketCap</th>\n",
       "    </tr>\n",
       "    <tr>\n",
       "      <th>ticker</th>\n",
       "      <th></th>\n",
       "    </tr>\n",
       "  </thead>\n",
       "  <tbody>\n",
       "    <tr>\n",
       "      <th>AAPL</th>\n",
       "      <td>76.573432</td>\n",
       "    </tr>\n",
       "    <tr>\n",
       "      <th>TSLA</th>\n",
       "      <td>23.426568</td>\n",
       "    </tr>\n",
       "  </tbody>\n",
       "</table>\n",
       "</div>"
      ],
      "text/plain": [
       "        marketCap\n",
       "ticker           \n",
       "AAPL    76.573432\n",
       "TSLA    23.426568"
      ]
     },
     "execution_count": 19,
     "metadata": {},
     "output_type": "execute_result"
    }
   ],
   "source": [
    "wgts_prior = tickerlist.marketCap.dropna()/sum(tickerlist.marketCap.dropna())\n",
    "pd.DataFrame(wgts_prior*100)"
   ]
  },
  {
   "cell_type": "markdown",
   "metadata": {},
   "source": [
    "Covariance Matrix"
   ]
  },
  {
   "cell_type": "code",
   "execution_count": 20,
   "metadata": {},
   "outputs": [
    {
     "data": {
      "text/html": [
       "<div>\n",
       "<style scoped>\n",
       "    .dataframe tbody tr th:only-of-type {\n",
       "        vertical-align: middle;\n",
       "    }\n",
       "\n",
       "    .dataframe tbody tr th {\n",
       "        vertical-align: top;\n",
       "    }\n",
       "\n",
       "    .dataframe thead th {\n",
       "        text-align: right;\n",
       "    }\n",
       "</style>\n",
       "<table border=\"1\" class=\"dataframe\">\n",
       "  <thead>\n",
       "    <tr style=\"text-align: right;\">\n",
       "      <th></th>\n",
       "      <th>AAPL</th>\n",
       "      <th>TSLA</th>\n",
       "    </tr>\n",
       "  </thead>\n",
       "  <tbody>\n",
       "    <tr>\n",
       "      <th>AAPL</th>\n",
       "      <td>0.007480</td>\n",
       "      <td>0.008599</td>\n",
       "    </tr>\n",
       "    <tr>\n",
       "      <th>TSLA</th>\n",
       "      <td>0.008599</td>\n",
       "      <td>0.037275</td>\n",
       "    </tr>\n",
       "  </tbody>\n",
       "</table>\n",
       "</div>"
      ],
      "text/plain": [
       "          AAPL      TSLA\n",
       "AAPL  0.007480  0.008599\n",
       "TSLA  0.008599  0.037275"
      ]
     },
     "execution_count": 20,
     "metadata": {},
     "output_type": "execute_result"
    }
   ],
   "source": [
    "cov_monthly"
   ]
  },
  {
   "cell_type": "markdown",
   "metadata": {},
   "source": [
    "Implied returns given the benchmark wgts and covariance matrix.  Note that these values are implied monthly returns and is reasonable given that both stocks runs up significantly between 2016 and 2020."
   ]
  },
  {
   "cell_type": "code",
   "execution_count": 21,
   "metadata": {},
   "outputs": [
    {
     "data": {
      "text/html": [
       "<div>\n",
       "<style scoped>\n",
       "    .dataframe tbody tr th:only-of-type {\n",
       "        vertical-align: middle;\n",
       "    }\n",
       "\n",
       "    .dataframe tbody tr th {\n",
       "        vertical-align: top;\n",
       "    }\n",
       "\n",
       "    .dataframe thead th {\n",
       "        text-align: right;\n",
       "    }\n",
       "</style>\n",
       "<table border=\"1\" class=\"dataframe\">\n",
       "  <thead>\n",
       "    <tr style=\"text-align: right;\">\n",
       "      <th></th>\n",
       "      <th>Implied Returns</th>\n",
       "    </tr>\n",
       "  </thead>\n",
       "  <tbody>\n",
       "    <tr>\n",
       "      <th>AAPL</th>\n",
       "      <td>0.019356</td>\n",
       "    </tr>\n",
       "    <tr>\n",
       "      <th>TSLA</th>\n",
       "      <td>0.038291</td>\n",
       "    </tr>\n",
       "  </tbody>\n",
       "</table>\n",
       "</div>"
      ],
      "text/plain": [
       "      Implied Returns\n",
       "AAPL         0.019356\n",
       "TSLA         0.038291"
      ]
     },
     "execution_count": 21,
     "metadata": {},
     "output_type": "execute_result"
    }
   ],
   "source": [
    "DELTA = 2.5\n",
    "s = cov_monthly\n",
    "pi = implied_returns(delta=DELTA, sigma=s, w=wgts_prior)\n",
    "pd.DataFrame(pi)"
   ]
  },
  {
   "cell_type": "code",
   "execution_count": 22,
   "metadata": {},
   "outputs": [
    {
     "data": {
      "image/png": "[encoded data removed]",
      "text/plain": [
       "<Figure size 864x216 with 1 Axes>"
      ]
     },
     "metadata": {
      "needs_background": "light"
     },
     "output_type": "display_data"
    }
   ],
   "source": [
    "ax = (pi*100).plot(kind='bar', figsize=(12,3))\n",
    "ax.set_title('Asset Implied Returns at Equilibrium')\n",
    "plt.show()"
   ]
  },
  {
   "cell_type": "markdown",
   "metadata": {},
   "source": [
    "Asset Allocation of Maximum Sharpe Ratio portfolio using implied returns and covariance matrix"
   ]
  },
  {
   "cell_type": "code",
   "execution_count": 23,
   "metadata": {},
   "outputs": [
    {
     "data": {
      "text/html": [
       "<div>\n",
       "<style scoped>\n",
       "    .dataframe tbody tr th:only-of-type {\n",
       "        vertical-align: middle;\n",
       "    }\n",
       "\n",
       "    .dataframe tbody tr th {\n",
       "        vertical-align: top;\n",
       "    }\n",
       "\n",
       "    .dataframe thead th {\n",
       "        text-align: right;\n",
       "    }\n",
       "</style>\n",
       "<table border=\"1\" class=\"dataframe\">\n",
       "  <thead>\n",
       "    <tr style=\"text-align: right;\">\n",
       "      <th></th>\n",
       "      <th>weights</th>\n",
       "    </tr>\n",
       "  </thead>\n",
       "  <tbody>\n",
       "    <tr>\n",
       "      <th>AAPL</th>\n",
       "      <td>76.57</td>\n",
       "    </tr>\n",
       "    <tr>\n",
       "      <th>TSLA</th>\n",
       "      <td>23.43</td>\n",
       "    </tr>\n",
       "  </tbody>\n",
       "</table>\n",
       "</div>"
      ],
      "text/plain": [
       "      weights\n",
       "AAPL    76.57\n",
       "TSLA    23.43"
      ]
     },
     "execution_count": 23,
     "metadata": {},
     "output_type": "execute_result"
    }
   ],
   "source": [
    "tickers = pi.index\n",
    "er_appl = pi[0]\n",
    "er_tsla = pi[1]\n",
    "\n",
    "mu_exp = pd.Series([er_appl, er_tsla], index=tickers)\n",
    "msr_w = np.round(w_msr(s, mu_exp)*100, 2)\n",
    "pd.DataFrame(msr_w, columns=['weights'])"
   ]
  },
  {
   "cell_type": "code",
   "execution_count": 24,
   "metadata": {},
   "outputs": [
    {
     "data": {
      "image/png": "[encoded data removed]",
      "text/plain": [
       "<Figure size 864x216 with 1 Axes>"
      ]
     },
     "metadata": {
      "needs_background": "light"
     },
     "output_type": "display_data"
    }
   ],
   "source": [
    "ax = msr_w.plot(kind='bar', color='r', figsize=(12,3))\n",
    "ax.set_title('Asset Allocation')\n",
    "plt.show()"
   ]
  },
  {
   "cell_type": "markdown",
   "metadata": {},
   "source": [
    "### Interactive Controls"
   ]
  },
  {
   "cell_type": "code",
   "execution_count": 25,
   "metadata": {},
   "outputs": [
    {
     "data": {
      "application/vnd.jupyter.widget-view+json": {
       "model_id": "ac6a8040cc53406aa2f152bb7789e9c8",
       "version_major": 2,
       "version_minor": 0
      },
      "text/plain": [
       "Output()"
      ]
     },
     "metadata": {},
     "output_type": "display_data"
    },
    {
     "data": {
      "application/vnd.jupyter.widget-view+json": {
       "model_id": "275b246cd3494d35a7b6ba22848d951c",
       "version_major": 2,
       "version_minor": 0
      },
      "text/plain": [
       "HBox(children=(Label(value='AAPL expected return (%)'), FloatSlider(value=1.935583239002983, max=10.0), Label(…"
      ]
     },
     "metadata": {},
     "output_type": "display_data"
    }
   ],
   "source": [
    "er1=widgets.FloatSlider(min=0, max=10, step=0.1, value=pi[0]*100, readout=True, readout_format='.2f')\n",
    "er2=widgets.FloatSlider(min=0, max=10, step=0.1, value=pi[1]*100, readout=True, readout_format='.2f')\n",
    "ui = widgets.HBox([Label('AAPL expected return (%)'), er1, Label('TSLA expected return (%)'), er2])\n",
    "\n",
    "def show_native_wgts(er1, er2):\n",
    "    \n",
    "    tickers = pi.index\n",
    "\n",
    "    mu_exp = pd.Series([er1, er2], index=tickers)\n",
    "    msr_w = w_msr(s, mu_exp)\n",
    "    \n",
    "    combine_wgts = pd.concat([wgts_prior, msr_w], axis=1)\n",
    "    combine_wgts = combine_wgts * 100\n",
    "    combine_wgts.columns = ['bmk', 'wgts_with_views']\n",
    "    ax = combine_wgts.plot(kind='bar', figsize=(12,6))\n",
    "    ax.set_ylabel('Weights (%)')\n",
    "    ax.set_xlabel('Assets')\n",
    "    for p in ax.patches:\n",
    "        ax.annotate(str(round(p.get_height(), 2)), (p.get_x() + 0.08, p.get_height() + 0.5))\n",
    "\n",
    "### CONTROLS\n",
    "combine_wgts_controls = widgets.interactive_output(show_native_wgts, {'er1':er1, 'er2':er2})    \n",
    "\n",
    "### DISPLAY\n",
    "display(combine_wgts_controls, ui)"
   ]
  },
  {
   "cell_type": "markdown",
   "metadata": {},
   "source": [
    "Recall that implied returns are estimated.  Slight changes in estimation will have significant impact to the asset allocation when using the native Markowitz procedure.  The procedure generates unrealistic weights and is completely impractical.\n",
    "\n",
    "Starting at market equilibrium, adjust to the expected returns of each asset above and see how the weight of each asset changes.  Observe that weights may reach negative at some point."
   ]
  },
  {
   "cell_type": "markdown",
   "metadata": {},
   "source": [
    "---\n",
    "## Black Litterman Asset Allocation Procedure\n",
    "### Recall\n",
    "Equilibrium Implied Return"
   ]
  },
  {
   "cell_type": "code",
   "execution_count": 26,
   "metadata": {},
   "outputs": [
    {
     "data": {
      "text/html": [
       "<div>\n",
       "<style scoped>\n",
       "    .dataframe tbody tr th:only-of-type {\n",
       "        vertical-align: middle;\n",
       "    }\n",
       "\n",
       "    .dataframe tbody tr th {\n",
       "        vertical-align: top;\n",
       "    }\n",
       "\n",
       "    .dataframe thead th {\n",
       "        text-align: right;\n",
       "    }\n",
       "</style>\n",
       "<table border=\"1\" class=\"dataframe\">\n",
       "  <thead>\n",
       "    <tr style=\"text-align: right;\">\n",
       "      <th></th>\n",
       "      <th>Implied Returns</th>\n",
       "    </tr>\n",
       "  </thead>\n",
       "  <tbody>\n",
       "    <tr>\n",
       "      <th>AAPL</th>\n",
       "      <td>0.019356</td>\n",
       "    </tr>\n",
       "    <tr>\n",
       "      <th>TSLA</th>\n",
       "      <td>0.038291</td>\n",
       "    </tr>\n",
       "  </tbody>\n",
       "</table>\n",
       "</div>"
      ],
      "text/plain": [
       "      Implied Returns\n",
       "AAPL         0.019356\n",
       "TSLA         0.038291"
      ]
     },
     "execution_count": 26,
     "metadata": {},
     "output_type": "execute_result"
    }
   ],
   "source": [
    "pd.DataFrame(pi)"
   ]
  },
  {
   "cell_type": "markdown",
   "metadata": {},
   "source": [
    "Market Cap Weights"
   ]
  },
  {
   "cell_type": "code",
   "execution_count": 27,
   "metadata": {},
   "outputs": [
    {
     "data": {
      "text/html": [
       "<div>\n",
       "<style scoped>\n",
       "    .dataframe tbody tr th:only-of-type {\n",
       "        vertical-align: middle;\n",
       "    }\n",
       "\n",
       "    .dataframe tbody tr th {\n",
       "        vertical-align: top;\n",
       "    }\n",
       "\n",
       "    .dataframe thead th {\n",
       "        text-align: right;\n",
       "    }\n",
       "</style>\n",
       "<table border=\"1\" class=\"dataframe\">\n",
       "  <thead>\n",
       "    <tr style=\"text-align: right;\">\n",
       "      <th></th>\n",
       "      <th>marketCap</th>\n",
       "    </tr>\n",
       "    <tr>\n",
       "      <th>ticker</th>\n",
       "      <th></th>\n",
       "    </tr>\n",
       "  </thead>\n",
       "  <tbody>\n",
       "    <tr>\n",
       "      <th>AAPL</th>\n",
       "      <td>76.573432</td>\n",
       "    </tr>\n",
       "    <tr>\n",
       "      <th>TSLA</th>\n",
       "      <td>23.426568</td>\n",
       "    </tr>\n",
       "  </tbody>\n",
       "</table>\n",
       "</div>"
      ],
      "text/plain": [
       "        marketCap\n",
       "ticker           \n",
       "AAPL    76.573432\n",
       "TSLA    23.426568"
      ]
     },
     "execution_count": 27,
     "metadata": {},
     "output_type": "execute_result"
    }
   ],
   "source": [
    "pd.DataFrame(wgts_prior*100)"
   ]
  },
  {
   "cell_type": "markdown",
   "metadata": {},
   "source": [
    "### Absolute View"
   ]
  },
  {
   "cell_type": "markdown",
   "metadata": {},
   "source": [
    "*Example*: Assume the investor has a view that AAPL has an expected return of **1%** and TSLA has an expected return of **4%**."
   ]
  },
  {
   "cell_type": "code",
   "execution_count": 28,
   "metadata": {},
   "outputs": [],
   "source": [
    "tickers = pi.index\n",
    "er_appl = 0.01\n",
    "er_tsla = 0.04\n",
    "\n",
    "q = pd.Series([er_appl, er_tsla], index=tickers)\n",
    "p = pd.DataFrame(np.identity(len(q)).astype(int), columns=tickers)"
   ]
  },
  {
   "cell_type": "code",
   "execution_count": 29,
   "metadata": {},
   "outputs": [],
   "source": [
    "# Find the Black Litterman Expected Returns\n",
    "bl_mu, bl_sigma = bl(w_prior=wgts_prior, sigma_prior=s, p=p, q=q)\n",
    "\n",
    "# Use the Black Litterman expected returns to get the Optimal Markowitz weights\n",
    "bl_w = w_msr(bl_sigma, bl_mu)*100   "
   ]
  },
  {
   "cell_type": "markdown",
   "metadata": {},
   "source": [
    "Black Litterman Asset Allocation"
   ]
  },
  {
   "cell_type": "code",
   "execution_count": 30,
   "metadata": {},
   "outputs": [
    {
     "data": {
      "text/html": [
       "<div>\n",
       "<style scoped>\n",
       "    .dataframe tbody tr th:only-of-type {\n",
       "        vertical-align: middle;\n",
       "    }\n",
       "\n",
       "    .dataframe tbody tr th {\n",
       "        vertical-align: top;\n",
       "    }\n",
       "\n",
       "    .dataframe thead th {\n",
       "        text-align: right;\n",
       "    }\n",
       "</style>\n",
       "<table border=\"1\" class=\"dataframe\">\n",
       "  <thead>\n",
       "    <tr style=\"text-align: right;\">\n",
       "      <th></th>\n",
       "      <th>weights</th>\n",
       "    </tr>\n",
       "  </thead>\n",
       "  <tbody>\n",
       "    <tr>\n",
       "      <th>AAPL</th>\n",
       "      <td>64.183711</td>\n",
       "    </tr>\n",
       "    <tr>\n",
       "      <th>TSLA</th>\n",
       "      <td>35.816289</td>\n",
       "    </tr>\n",
       "  </tbody>\n",
       "</table>\n",
       "</div>"
      ],
      "text/plain": [
       "        weights\n",
       "AAPL  64.183711\n",
       "TSLA  35.816289"
      ]
     },
     "execution_count": 30,
     "metadata": {},
     "output_type": "execute_result"
    }
   ],
   "source": [
    "pd.DataFrame(bl_w, columns=['weights'])"
   ]
  },
  {
   "cell_type": "markdown",
   "metadata": {},
   "source": [
    "The Black Litterman Asset Allocation recommends a reduction of AAPL's weight to 66.72% and increase of TSLA's weight to 33.28%."
   ]
  },
  {
   "cell_type": "markdown",
   "metadata": {},
   "source": [
    "#### Interactive Controls"
   ]
  },
  {
   "cell_type": "code",
   "execution_count": 31,
   "metadata": {},
   "outputs": [
    {
     "data": {
      "application/vnd.jupyter.widget-view+json": {
       "model_id": "86d2ade38b3e49f0829ce0f20436e749",
       "version_major": 2,
       "version_minor": 0
      },
      "text/plain": [
       "Output()"
      ]
     },
     "metadata": {},
     "output_type": "display_data"
    },
    {
     "data": {
      "application/vnd.jupyter.widget-view+json": {
       "model_id": "199829500df14ba3b4ef4a2fa7134897",
       "version_major": 2,
       "version_minor": 0
      },
      "text/plain": [
       "HBox(children=(Label(value='AAPL expected return (%)'), FloatSlider(value=1.935583239002983, max=10.0), Label(…"
      ]
     },
     "metadata": {},
     "output_type": "display_data"
    }
   ],
   "source": [
    "er1=widgets.FloatSlider(min=0, max=10, step=0.1, value=pi[0]*100, readout=True, readout_format='.2f')\n",
    "er2=widgets.FloatSlider(min=0, max=10, step=0.1, value=pi[1]*100, readout=True, readout_format='.2f')\n",
    "ui = widgets.HBox([Label('AAPL expected return (%)'), er1, Label('TSLA expected return (%)'), er2])\n",
    "\n",
    "def show_bl_wgts_abs_views(er1, er2):\n",
    "    \n",
    "    tickers = pi.index\n",
    "    \n",
    "    er1 /= 100\n",
    "    er2 /= 100\n",
    "    \n",
    "    mu_exp = pd.Series([er1, er2], index=tickers)\n",
    "    native_w = w_msr(s, mu_exp)\n",
    "    \n",
    "    q = pd.Series([er1, er2], index=tickers)\n",
    "    p = pd.DataFrame(np.identity(len(q)).astype(int), columns=tickers)\n",
    "\n",
    "    bl_mu, bl_sigma = bl(w_prior=wgts_prior, sigma_prior=s, p=p, q=q)\n",
    "    bl_w = w_msr(bl_sigma, bl_mu)\n",
    "    \n",
    "    combine_wgts = pd.concat([wgts_prior, native_w, bl_w], axis=1)\n",
    "    combine_wgts = combine_wgts * 100\n",
    "    combine_wgts.columns = ['bmk', 'naive_wgts_with_views', 'bl_wgts_with_views']\n",
    "    ax = combine_wgts.plot(kind='bar', figsize=(12,6))\n",
    "    ax.set_ylabel('Weights (%)')\n",
    "    ax.set_xlabel('Assets')\n",
    "    for p in ax.patches:\n",
    "        ax.annotate(str(round(p.get_height(), 2)), (p.get_x() + 0.04, p.get_height() + 0.5))\n",
    "\n",
    "### CONTROLS\n",
    "combine_wgts_controls = widgets.interactive_output(show_bl_wgts_abs_views, {'er1':er1, 'er2':er2})    \n",
    "\n",
    "### DISPLAY\n",
    "display(combine_wgts_controls, ui)"
   ]
  },
  {
   "cell_type": "markdown",
   "metadata": {},
   "source": [
    "Adjust the absolute view control above to see the updated weight of each asset.  Observe the change in asset allocation against the benchmark weights based on relative view adjustments.\n",
    "\n",
    "Note the drastic change in optimal weights when implementing with the Markowitz procedure (naive weights) when there is a slight change in expected returns.  The Markowitz procedure is highly sensitive to estimation errors in Expected Returns and Covariances.  It results in unstable portfolios with extreme weights that diverge quickly from the market equilibrium portfolio even with minor changes to the inputs.\n",
    "\n",
    "The Black Litterman procedure is more stable."
   ]
  },
  {
   "cell_type": "markdown",
   "metadata": {},
   "source": [
    "### Relative View"
   ]
  },
  {
   "cell_type": "code",
   "execution_count": 32,
   "metadata": {},
   "outputs": [
    {
     "name": "stdout",
     "output_type": "stream",
     "text": [
      "With reference to the Equilibrium Implied Return, AAPL is expected to underperform TSLA by 1.89%.\n"
     ]
    }
   ],
   "source": [
    "print('With reference to the Equilibrium Implied Return, AAPL is expected ' + \n",
    "                    'to underperform TSLA by {:.2f}%.'.format((pi[1]-pi[0])*100))"
   ]
  },
  {
   "cell_type": "markdown",
   "metadata": {},
   "source": [
    "*Example*: Assume the investor has a view that AAPL will overperform TSLA by **0.5%** instead"
   ]
  },
  {
   "cell_type": "code",
   "execution_count": 33,
   "metadata": {},
   "outputs": [],
   "source": [
    "q = pd.Series([0.005])      ## Investor's view in magnitude\n",
    "p = pd.DataFrame([\n",
    "  {'AAPL': 1, 'TSLA': -1}  ## Investor's view in direction -> AAPL overperform TSLA\n",
    "])\n",
    "\n",
    "bl_mu, bl_sigma = bl(w_prior=wgts_prior, sigma_prior=s, p=p, q=q)\n",
    "bl_w = w_msr(bl_sigma, bl_mu)*100   "
   ]
  },
  {
   "cell_type": "markdown",
   "metadata": {},
   "source": [
    "Black Litterman Asset Allocation"
   ]
  },
  {
   "cell_type": "code",
   "execution_count": 34,
   "metadata": {},
   "outputs": [
    {
     "data": {
      "text/html": [
       "<div>\n",
       "<style scoped>\n",
       "    .dataframe tbody tr th:only-of-type {\n",
       "        vertical-align: middle;\n",
       "    }\n",
       "\n",
       "    .dataframe tbody tr th {\n",
       "        vertical-align: top;\n",
       "    }\n",
       "\n",
       "    .dataframe thead th {\n",
       "        text-align: right;\n",
       "    }\n",
       "</style>\n",
       "<table border=\"1\" class=\"dataframe\">\n",
       "  <thead>\n",
       "    <tr style=\"text-align: right;\">\n",
       "      <th></th>\n",
       "      <th>weights</th>\n",
       "    </tr>\n",
       "  </thead>\n",
       "  <tbody>\n",
       "    <tr>\n",
       "      <th>AAPL</th>\n",
       "      <td>93.844585</td>\n",
       "    </tr>\n",
       "    <tr>\n",
       "      <th>TSLA</th>\n",
       "      <td>6.155415</td>\n",
       "    </tr>\n",
       "  </tbody>\n",
       "</table>\n",
       "</div>"
      ],
      "text/plain": [
       "        weights\n",
       "AAPL  93.844585\n",
       "TSLA   6.155415"
      ]
     },
     "execution_count": 34,
     "metadata": {},
     "output_type": "execute_result"
    }
   ],
   "source": [
    "pd.DataFrame(bl_w, columns=['weights'])"
   ]
  },
  {
   "cell_type": "code",
   "execution_count": 35,
   "metadata": {},
   "outputs": [
    {
     "name": "stdout",
     "output_type": "stream",
     "text": [
      "The Black Litterman Asset Allocation recommends an increaseof AAPLs weight to 93.84% and reduction of TSLAs weight to 6.16%.\n"
     ]
    }
   ],
   "source": [
    "print('The Black Litterman Asset Allocation recommends an increase' +\n",
    "      'of AAPL''s weight to {:.2f}% and reduction of TSLA''s weight to {:.2f}%.'.format(bl_w[0],bl_w[1]))"
   ]
  },
  {
   "cell_type": "markdown",
   "metadata": {},
   "source": [
    "#### Interactive Controls"
   ]
  },
  {
   "cell_type": "code",
   "execution_count": 36,
   "metadata": {},
   "outputs": [
    {
     "data": {
      "application/vnd.jupyter.widget-view+json": {
       "model_id": "116811ef1bea434d94b6d016e2670b0a",
       "version_major": 2,
       "version_minor": 0
      },
      "text/plain": [
       "Output()"
      ]
     },
     "metadata": {},
     "output_type": "display_data"
    },
    {
     "data": {
      "application/vnd.jupyter.widget-view+json": {
       "model_id": "bb9665564b5149989f9fc3f03792b4ef",
       "version_major": 2,
       "version_minor": 0
      },
      "text/plain": [
       "HBox(children=(Label(value='AAPL overperform TSLA by (%)'), FloatSlider(value=0.0, max=5.0, min=-5.0, step=0.5…"
      ]
     },
     "metadata": {},
     "output_type": "display_data"
    }
   ],
   "source": [
    "rr = widgets.FloatSlider(min=-5, max=5, step=0.5, value=0, readout=True, readout_format='.2f')\n",
    "ui = widgets.HBox([Label('AAPL overperform TSLA by (%)'), rr])\n",
    "\n",
    "def show_bl_wgts_rel_views(rr):\n",
    "    \n",
    "    rr /= 100\n",
    "    q = pd.Series([rr])\n",
    "    p = pd.DataFrame([\n",
    "      {'AAPL': 1, 'TSLA': -1}\n",
    "    ])\n",
    "\n",
    "    bl_mu, bl_sigma = bl(w_prior=wgts_prior, sigma_prior=s, p=p, q=q)\n",
    "    bl_w = w_msr(bl_sigma, bl_mu)\n",
    "    \n",
    "    combine_wgts = pd.concat([wgts_prior, bl_w], axis=1)\n",
    "    combine_wgts = combine_wgts * 100\n",
    "    combine_wgts.columns = ['bmk', 'bl_wgts_with_views']\n",
    "    ax = combine_wgts.plot(kind='bar', figsize=(12,6))\n",
    "    ax.set_ylabel('Weights (%)')\n",
    "    ax.set_xlabel('Assets')\n",
    "    for p in ax.patches:\n",
    "        ax.annotate(str(round(p.get_height(), 2)), (p.get_x() + 0.08, p.get_height() + 0.5))\n",
    "\n",
    "### CONTROLS\n",
    "combine_wgts_controls = widgets.interactive_output(show_bl_wgts_rel_views, {'rr': rr})    \n",
    "\n",
    "### DISPLAY\n",
    "display(combine_wgts_controls, ui)"
   ]
  },
  {
   "cell_type": "markdown",
   "metadata": {},
   "source": [
    "Adjust the relative view control above to see the updated weight of each asset.  Observe the change in asset allocation against the benchmark weights based on relative view adjustments.\n",
    "\n",
    "Note that when AAPL to overperform TSLA is a negative value, it is equivalent to AAPL to underperform TSLA in absolute terms."
   ]
  },
  {
   "cell_type": "code",
   "execution_count": null,
   "metadata": {},
   "outputs": [],
   "source": []
  }
 ],
 "metadata": {
  "kernelspec": {
   "display_name": "Python 3",
   "language": "python",
   "name": "python3"
  },
  "language_info": {
   "codemirror_mode": {
    "name": "ipython",
    "version": 3
   },
   "file_extension": ".py",
   "mimetype": "text/x-python",
   "name": "python",
   "nbconvert_exporter": "python",
   "pygments_lexer": "ipython3",
   "version": "3.8.3"
  }
 },
 "nbformat": 4,
 "nbformat_minor": 4
}
